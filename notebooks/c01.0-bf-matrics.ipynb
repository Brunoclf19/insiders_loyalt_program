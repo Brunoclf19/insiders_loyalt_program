{
 "cells": [
  {
   "cell_type": "markdown",
   "id": "5861d3fc",
   "metadata": {},
   "source": [
    "# Como criar um Programa de Fidelidade para empresa?"
   ]
  },
  {
   "cell_type": "markdown",
   "id": "9e0bc97e",
   "metadata": {},
   "source": [
    "# 0.0 Planejamento da solução (IOT)"
   ]
  },
  {
   "cell_type": "markdown",
   "id": "2d3463f5",
   "metadata": {},
   "source": [
    "### Input - Entrada"
   ]
  },
  {
   "cell_type": "markdown",
   "id": "b2c6efab",
   "metadata": {},
   "source": [
    "1. Problema de Negócio\n",
    "  - Selecionar os clientes mais valiosos para integrar um programa de fidelização\n",
    "2. Conjunto de dados\n",
    "  - Vendas de um Ecommerce Online, durante o período de um ano."
   ]
  },
  {
   "cell_type": "markdown",
   "id": "7563d670",
   "metadata": {},
   "source": [
    "### Output - Saída"
   ]
  },
  {
   "cell_type": "markdown",
   "id": "93717fcc",
   "metadata": {},
   "source": [
    "1. Indicação das pessoas que farão parte do programa Insiders\n",
    "  - Lista: client_id | is_insider\n",
    "\n",
    "2. Relatório com as respostas das perguntas de negócio.\n",
    "  - Quem são as pessoas elegíveis para participar do programa de Insiders?\n",
    "  - Quantos clientes farão parte do grupo?\n",
    "  - Quais as principais características desse clientes?\n",
    "  - Qual a porcentagem de contribuição do faturamento desses clientes, vinda do Insiders?\n",
    "  - Qual a expectativa de faturamento desse grupo para os próximos meses?\n",
    "  - Quais as condições para uma pessoa ser elegível ao Insiders?\n",
    "  - Quais as condições para uma pessoa ser removida do Insiders?\n",
    "  - Qual a garantia que o programa Insiders é melhor que o restante da base?\n",
    "  - Quais ações o time de marketing pode realizar para aumentar o faturamento?"
   ]
  },
  {
   "cell_type": "markdown",
   "id": "3b6be499",
   "metadata": {},
   "source": [
    "### Tasks - Tarefas"
   ]
  },
  {
   "cell_type": "markdown",
   "id": "e6153d12",
   "metadata": {},
   "source": [
    "1. Quem são as pessoas elegíveis para participar do programa de Insiders?\n",
    "  - O que é ser elegível? O que são clientes de maior \"valor\"?\n",
    "  - Faturamento:\n",
    "    - Alto Ticket Médio\n",
    "    - Alto LTV (Life Time Value - Gasto durante seu período de vida na empresa)\n",
    "    - Baixo Recência\n",
    "    - Alto basket size (tamanho da cesta de compra)\n",
    "    - Baixa probabilidade de churn (parou de comprar)\n",
    "    - Alta previsão LTV\n",
    "    - Alta previsão de compra\n",
    "\n",
    "  - Custo\n",
    "    - Baixa taxa de devolução\n",
    "\n",
    "  - Experiência de Compra\n",
    "    - Média alta das avaliações\n",
    "\n",
    "2. Quantos clientes farão parte do grupo?\n",
    "  - Número total de clientes\n",
    "  - Calcula a % do grupo Insiders\n",
    "\n",
    "3. Quais as principais características desse clientes?\n",
    "  - Escrever características do cliente\n",
    "    - Idade\n",
    "    - Localização\n",
    "    \n",
    "  - Ecrever características de consumo\n",
    "    - Atributos da clusterização (perfil de compra do cliente)\n",
    "\n",
    "4. Qual a porcentagem de contribuição do faturamento desses clientes, vinda do Insiders?\n",
    "  - Faturamento total do ano\n",
    "  - Faturamento do grupo Insiders\n",
    "\n",
    "5. Qual a expectativa de faturamento desse grupo para os próximos meses?\n",
    "  - LTV do grupo Insiders\n",
    "  - Análise de Cohort (Marcação da pessoa, como por exemplo no tempo, perfil de pessoas que entraram no mesmo mês)\n",
    "\n",
    "6. Quais as condições para uma pessoa ser elegível ao Insiders?\n",
    "  - Definir a periodicidade (recorrência de rodar o modelo)\n",
    "  - A pessoa precisa ser similar ou parecida com uma pessoa do grupo\n",
    "\n",
    "7. Quais as condições para uma pessoa ser removida do Insiders?\n",
    "  - Definir a periodicidade (recorrência de rodar o modelo)\n",
    "  - A pessoa precisa ser disimilar ou s distanciar das médias do grupo\n",
    "\n",
    "8. Qual a garantia que o programa Insiders é melhor que o restante da base?\n",
    "  - Teste A/B\n",
    "  - Teste A/B Baysiano\n",
    "  - Teste de hipóteses\n",
    "  \n",
    "9. Quais ações o time de marketing pode realizar para aumentar o faturamento?\n",
    "  - Desconto\n",
    "  - Preferência de compra\n",
    "  - Frete\n",
    "  - Visita a empresa"
   ]
  },
  {
   "cell_type": "markdown",
   "id": "84d5d5ba",
   "metadata": {},
   "source": [
    "## Benchmark de soluções"
   ]
  },
  {
   "cell_type": "markdown",
   "id": "0c410f50",
   "metadata": {},
   "source": [
    "### 1. Desk Research - Pesquisa de soluções das outras empresas"
   ]
  },
  {
   "cell_type": "markdown",
   "id": "fc14f4c4",
   "metadata": {},
   "source": [
    "**Modelo RFM**\n",
    "\n",
    "**1. Recência**\n",
    "\n",
    "  * Tempo desde a última compra\n",
    "\n",
    "  * Responsividade\n",
    "\n",
    "**2. Frequência**\n",
    "\n",
    "  * Quantidade de compras em um período\n",
    "\n",
    "  * Engajamento\n",
    "\n",
    "**3. Monetária**\n",
    "\n",
    "  * Total gasto, faturamento\n",
    "\n",
    "  * Alto valor de compra"
   ]
  },
  {
   "cell_type": "markdown",
   "id": "3bd3fb0f",
   "metadata": {},
   "source": [
    "**1. Passo 01:**\n",
    "\n",
    "* Ordernar os clientes por **Recência**\n",
    "\n",
    "**2. Passo 02:**\n",
    "\n",
    "* Dividir a base de clientes de acordo com as notas\n",
    "  - Notas de 1 - 5 (5 notas possíveis)\n",
    "  - Divide a base de clientes em 5 grupos de 20% cada\n",
    "  - Quanto menor o valor, maior nota\n",
    "\n",
    "* Essa nota se chama R Score\n",
    "\n",
    "**3. Passo 03:**\n",
    "\n",
    "* Ordernar os clientes pela **Frequência**\n",
    "\n",
    "**4. Passo 04:**\n",
    "\n",
    "* Dar as notas de maneira similar ao passo 02\n",
    "* Essa nota se chama F Score\n",
    "* Quanto maior o valor, maior a nota\n",
    "\n",
    "**5. Passo 05:**\n",
    "\n",
    "* Ordenar pelo **monetário** (faturamento)\n",
    "\n",
    "**6. Passo 06:**\n",
    "\n",
    "* Dar as notas de maneira similar ao passo 02 e 04\n",
    "* Essa nota de chama M Score\n",
    "* Quanto maior o valor, maior a nota\n",
    "\n",
    "**7. Passo 07:**\n",
    "\n",
    "* Calcular a média das notas R,F,M\n",
    "* RFM Score (pode ordenar por essa média para ter os melhores clientes)"
   ]
  },
  {
   "cell_type": "markdown",
   "id": "b94d1822",
   "metadata": {},
   "source": [
    "Definições que podem ser usadas para dividir os clientes com o RFM e assim direcionar esse clientes para as melhores ações\n",
    "\n",
    "**1. Champions**\n",
    "\n",
    "  - Compra recentes, frequentes com alto valor gasto\n",
    "  - Prêmios para esses clientes\n",
    "\n",
    "**2. Potential Loyalists**\n",
    "\n",
    "  - Compras recentes, boa frequência e bom valor gasto\n",
    "  - Programa de Fidelização e Upsell\n",
    "\n",
    "**3. New Custumers**\n",
    "\n",
    "  - Compra recente, baixa frequência\n",
    "  - Construção de Relacionamento, ofertas especiais\n",
    "\n",
    "**4. At Risk Custumers**\n",
    "\n",
    "  - \"Faz tempo que não compra\"\n",
    "  - Campanhas de reativação, ofertas, produtos\n",
    "\n",
    "**5. Can't Lose Them**\n",
    "\n",
    "  - Faz tempo que não compra e não viita o site\n"
   ]
  },
  {
   "cell_type": "markdown",
   "id": "dc20fa98",
   "metadata": {},
   "source": [
    "Com isso, você consegue entender:\n",
    "\n",
    "1. Quem são seus melhores clientes?\n",
    "\n",
    "2. Quais clientes estão próximos do Churn?\n",
    "\n",
    "3. Quais os potenciais clientes para entrar no programa de Fidelização?\n",
    "\n",
    "4. Quais clientes precisam ser retidos?\n",
    "\n",
    "5. Quais clientes mais prováveis de responder as campanhas de marketing?"
   ]
  },
  {
   "cell_type": "markdown",
   "id": "82540fb8",
   "metadata": {},
   "source": [
    "## 0.1 Imports"
   ]
  },
  {
   "cell_type": "code",
   "execution_count": 40,
   "id": "8e58bf6e",
   "metadata": {},
   "outputs": [],
   "source": [
    "import warnings\n",
    "\n",
    "import pandas  as pd\n",
    "import numpy   as np\n",
    "import seaborn as sns\n",
    "\n",
    "from yellowbrick.cluster   import KElbowVisualizer\n",
    "from IPython.display       import Image\n",
    "from IPython.core.display  import HTML\n",
    "\n",
    "from matplotlib            import pyplot  as plt\n",
    "from sklearn               import cluster as c\n",
    "from sklearn               import metrics as m\n",
    "from plotly                import express as px\n",
    "\n",
    "warnings.filterwarnings( 'ignore' )"
   ]
  },
  {
   "cell_type": "markdown",
   "id": "e0464bcb",
   "metadata": {},
   "source": [
    "## 0.2 Helper Functions"
   ]
  },
  {
   "cell_type": "code",
   "execution_count": 41,
   "id": "cde7d86e",
   "metadata": {},
   "outputs": [
    {
     "name": "stdout",
     "output_type": "stream",
     "text": [
      "%pylab is deprecated, use %matplotlib inline and import the required libraries.\n",
      "Populating the interactive namespace from numpy and matplotlib\n"
     ]
    },
    {
     "data": {
      "text/html": [
       "<style>.container { width:100% !important; }</style>"
      ],
      "text/plain": [
       "<IPython.core.display.HTML object>"
      ]
     },
     "metadata": {},
     "output_type": "display_data"
    }
   ],
   "source": [
    "def jupyter_settings():\n",
    "    \"\"\"Definições padrões setadas para o uso o Jupyter Notebook.\"\"\"\n",
    "    %matplotlib inline\n",
    "    %pylab inline\n",
    "    plt.style.use( 'bmh' )\n",
    "    plt.rcParams['figure.figsize'] = [25, 12]\n",
    "    plt.rcParams['font.size'] = 24\n",
    "    display( HTML( '<style>.container { width:100% !important; }</style>') )\n",
    "    pd.options.display.max_columns = None\n",
    "    pd.options.display.max_rows = None\n",
    "    pd.set_option( 'display.expand_frame_repr', False )\n",
    "    sns.set()\n",
    "\n",
    "#Executando a função\n",
    "jupyter_settings();"
   ]
  },
  {
   "cell_type": "code",
   "execution_count": 42,
   "id": "7c508bb1",
   "metadata": {},
   "outputs": [
    {
     "data": {
      "image/png": "[encoded data removed]",
      "text/plain": [
       "<IPython.core.display.Image object>"
      ]
     },
     "execution_count": 42,
     "metadata": {},
     "output_type": "execute_result"
    }
   ],
   "source": [
    "Image(filename=r'C:\\Users\\bruno.freitas\\Documents\\repositorio\\insiders_loyalty_program\\img\\modelo_rfm.png')"
   ]
  },
  {
   "cell_type": "markdown",
   "id": "7f40f7a5",
   "metadata": {},
   "source": [
    "Com isso, você consegue entender:\n",
    "\n",
    "1. Quem são seus melhores clientes?\n",
    "\n",
    "2. Quais clientes estão próximos do Churn?\n",
    "\n",
    "3. Quais os potenciais clientes para entrar no programa de Fidelização?\n",
    "\n",
    "4. Quais clientes precisam ser retidos?\n",
    "\n",
    "5. Quais clientes mais prováveis de responder as campanhas de marketing?"
   ]
  },
  {
   "cell_type": "markdown",
   "id": "7e7b5b7e",
   "metadata": {},
   "source": [
    "## 0.3 Carregamento de dados"
   ]
  },
  {
   "cell_type": "code",
   "execution_count": 43,
   "id": "d1d015b9",
   "metadata": {},
   "outputs": [],
   "source": [
    "#load dat\n",
    "df_raw = pd.read_csv(r'C:\\Users\\bruno.freitas\\Documents\\repositorio\\insiders_loyalty_program\\data\\Ecommerce\\Ecommerce.csv',encoding='unicode_escape')\n",
    "\n",
    "#drop extra column\n",
    "df_raw = df_raw.drop(columns=['Unnamed: 8'],axis=1)"
   ]
  },
  {
   "cell_type": "markdown",
   "id": "1c9c5552",
   "metadata": {},
   "source": [
    "# <font color = \"red\" > 1.0. Descrição dos dados </font>"
   ]
  },
  {
   "cell_type": "code",
   "execution_count": 44,
   "id": "7965a29a",
   "metadata": {},
   "outputs": [
    {
     "data": {
      "text/plain": [
       "(541909, 8)"
      ]
     },
     "execution_count": 44,
     "metadata": {},
     "output_type": "execute_result"
    }
   ],
   "source": [
    "df_raw.shape"
   ]
  },
  {
   "cell_type": "code",
   "execution_count": 45,
   "id": "4fdcfb83",
   "metadata": {},
   "outputs": [
    {
     "data": {
      "text/plain": [
       "Index(['InvoiceNo', 'StockCode', 'Description', 'Quantity', 'InvoiceDate',\n",
       "       'UnitPrice', 'CustomerID', 'Country'],\n",
       "      dtype='object')"
      ]
     },
     "execution_count": 45,
     "metadata": {},
     "output_type": "execute_result"
    }
   ],
   "source": [
    "df_raw.columns"
   ]
  },
  {
   "cell_type": "code",
   "execution_count": 46,
   "id": "4944cae0",
   "metadata": {},
   "outputs": [],
   "source": [
    "df1 = df_raw.copy()"
   ]
  },
  {
   "cell_type": "markdown",
   "id": "e8c99d94",
   "metadata": {},
   "source": [
    "## 1.1 Colunas renomeadas"
   ]
  },
  {
   "cell_type": "code",
   "execution_count": 47,
   "id": "e6a72aec",
   "metadata": {},
   "outputs": [],
   "source": [
    "cols_new = ['invoice_no','stock_code','description','quantity','invoice_date','unit_price','customer_id','country']\n",
    "df1.columns = cols_new"
   ]
  },
  {
   "cell_type": "code",
   "execution_count": 48,
   "id": "d457656a",
   "metadata": {},
   "outputs": [
    {
     "data": {
      "text/plain": [
       "Index(['invoice_no', 'stock_code', 'description', 'quantity', 'invoice_date',\n",
       "       'unit_price', 'customer_id', 'country'],\n",
       "      dtype='object')"
      ]
     },
     "execution_count": 48,
     "metadata": {},
     "output_type": "execute_result"
    }
   ],
   "source": [
    "df1.columns"
   ]
  },
  {
   "cell_type": "markdown",
   "id": "def8bc06",
   "metadata": {},
   "source": [
    "## 1.2 Dimensões de dados"
   ]
  },
  {
   "cell_type": "code",
   "execution_count": 49,
   "id": "635a79b1",
   "metadata": {},
   "outputs": [
    {
     "name": "stdout",
     "output_type": "stream",
     "text": [
      "Number of rows 541909\n",
      "Number of cols 8\n"
     ]
    }
   ],
   "source": [
    "print(f'Number of rows {df1.shape[0]}')\n",
    "print(f'Number of cols {df1.shape[1]}')"
   ]
  },
  {
   "cell_type": "markdown",
   "id": "be5e1c2f",
   "metadata": {},
   "source": [
    "## 1.3 Tipos de dados"
   ]
  },
  {
   "cell_type": "code",
   "execution_count": 50,
   "id": "ee0966e9",
   "metadata": {},
   "outputs": [
    {
     "data": {
      "text/plain": [
       "invoice_no       object\n",
       "stock_code       object\n",
       "description      object\n",
       "quantity          int64\n",
       "invoice_date     object\n",
       "unit_price      float64\n",
       "customer_id     float64\n",
       "country          object\n",
       "dtype: object"
      ]
     },
     "execution_count": 50,
     "metadata": {},
     "output_type": "execute_result"
    }
   ],
   "source": [
    "df1.dtypes"
   ]
  },
  {
   "cell_type": "markdown",
   "id": "1f0d56b0",
   "metadata": {},
   "source": [
    "## 1.4 Conferência de NA"
   ]
  },
  {
   "cell_type": "code",
   "execution_count": 51,
   "id": "efc092e7",
   "metadata": {},
   "outputs": [
    {
     "data": {
      "text/plain": [
       "invoice_no           0\n",
       "stock_code           0\n",
       "description       1454\n",
       "quantity             0\n",
       "invoice_date         0\n",
       "unit_price           0\n",
       "customer_id     135080\n",
       "country              0\n",
       "dtype: int64"
      ]
     },
     "execution_count": 51,
     "metadata": {},
     "output_type": "execute_result"
    }
   ],
   "source": [
    "df1.isna().sum()"
   ]
  },
  {
   "cell_type": "markdown",
   "id": "19715919",
   "metadata": {},
   "source": [
    "## 1.5 Substituíndo NA"
   ]
  },
  {
   "cell_type": "code",
   "execution_count": 52,
   "id": "3416dcc5",
   "metadata": {},
   "outputs": [
    {
     "data": {
      "text/plain": [
       "np.float64(0.25)"
      ]
     },
     "execution_count": 52,
     "metadata": {},
     "output_type": "execute_result"
    }
   ],
   "source": [
    "round(1-(406829/541909), 2)"
   ]
  },
  {
   "cell_type": "code",
   "execution_count": 53,
   "id": "7bfcd5fe",
   "metadata": {},
   "outputs": [
    {
     "name": "stdout",
     "output_type": "stream",
     "text": [
      "Removed data: 0.25\n"
     ]
    }
   ],
   "source": [
    "#removendo os na\n",
    "df1 = df1.dropna(subset=['description','customer_id'])\n",
    "print('Removed data: {:.2f}'.format(1 - (df1.shape[0] / df_raw.shape[0]))) #Quanto % de NA removeu do total"
   ]
  },
  {
   "cell_type": "code",
   "execution_count": 54,
   "id": "592265f3",
   "metadata": {},
   "outputs": [
    {
     "data": {
      "text/plain": [
       "(406829, 8)"
      ]
     },
     "execution_count": 54,
     "metadata": {},
     "output_type": "execute_result"
    }
   ],
   "source": [
    "# Restante\n",
    "df1.shape"
   ]
  },
  {
   "cell_type": "code",
   "execution_count": 55,
   "id": "2b4b6e19",
   "metadata": {},
   "outputs": [
    {
     "data": {
      "text/plain": [
       "invoice_no      0\n",
       "stock_code      0\n",
       "description     0\n",
       "quantity        0\n",
       "invoice_date    0\n",
       "unit_price      0\n",
       "customer_id     0\n",
       "country         0\n",
       "dtype: int64"
      ]
     },
     "execution_count": 55,
     "metadata": {},
     "output_type": "execute_result"
    }
   ],
   "source": [
    "#Checando se os NA foram realmente removidos\n",
    "df1.isna().sum()"
   ]
  },
  {
   "cell_type": "markdown",
   "id": "51104ce5",
   "metadata": {},
   "source": [
    "## 1.6 Alterando tipos de dados"
   ]
  },
  {
   "cell_type": "code",
   "execution_count": 56,
   "id": "e170f004",
   "metadata": {},
   "outputs": [],
   "source": [
    "#invoice date\n",
    "df1['invoice_date'] = pd.to_datetime(df1['invoice_date'],format='%d-%b-%y')\n",
    "\n",
    "#customer_id\n",
    "df1['customer_id'] = df1['customer_id'].astype(int)"
   ]
  },
  {
   "cell_type": "code",
   "execution_count": 57,
   "id": "3b592a38",
   "metadata": {},
   "outputs": [
    {
     "data": {
      "text/html": [
       "<div>\n",
       "<style scoped>\n",
       "    .dataframe tbody tr th:only-of-type {\n",
       "        vertical-align: middle;\n",
       "    }\n",
       "\n",
       "    .dataframe tbody tr th {\n",
       "        vertical-align: top;\n",
       "    }\n",
       "\n",
       "    .dataframe thead th {\n",
       "        text-align: right;\n",
       "    }\n",
       "</style>\n",
       "<table border=\"1\" class=\"dataframe\">\n",
       "  <thead>\n",
       "    <tr style=\"text-align: right;\">\n",
       "      <th></th>\n",
       "      <th>invoice_no</th>\n",
       "      <th>stock_code</th>\n",
       "      <th>description</th>\n",
       "      <th>quantity</th>\n",
       "      <th>invoice_date</th>\n",
       "      <th>unit_price</th>\n",
       "      <th>customer_id</th>\n",
       "      <th>country</th>\n",
       "    </tr>\n",
       "  </thead>\n",
       "  <tbody>\n",
       "    <tr>\n",
       "      <th>0</th>\n",
       "      <td>536365</td>\n",
       "      <td>85123A</td>\n",
       "      <td>WHITE HANGING HEART T-LIGHT HOLDER</td>\n",
       "      <td>6</td>\n",
       "      <td>2016-11-29</td>\n",
       "      <td>2.55</td>\n",
       "      <td>17850</td>\n",
       "      <td>United Kingdom</td>\n",
       "    </tr>\n",
       "    <tr>\n",
       "      <th>1</th>\n",
       "      <td>536365</td>\n",
       "      <td>71053</td>\n",
       "      <td>WHITE METAL LANTERN</td>\n",
       "      <td>6</td>\n",
       "      <td>2016-11-29</td>\n",
       "      <td>3.39</td>\n",
       "      <td>17850</td>\n",
       "      <td>United Kingdom</td>\n",
       "    </tr>\n",
       "    <tr>\n",
       "      <th>2</th>\n",
       "      <td>536365</td>\n",
       "      <td>84406B</td>\n",
       "      <td>CREAM CUPID HEARTS COAT HANGER</td>\n",
       "      <td>8</td>\n",
       "      <td>2016-11-29</td>\n",
       "      <td>2.75</td>\n",
       "      <td>17850</td>\n",
       "      <td>United Kingdom</td>\n",
       "    </tr>\n",
       "    <tr>\n",
       "      <th>3</th>\n",
       "      <td>536365</td>\n",
       "      <td>84029G</td>\n",
       "      <td>KNITTED UNION FLAG HOT WATER BOTTLE</td>\n",
       "      <td>6</td>\n",
       "      <td>2016-11-29</td>\n",
       "      <td>3.39</td>\n",
       "      <td>17850</td>\n",
       "      <td>United Kingdom</td>\n",
       "    </tr>\n",
       "    <tr>\n",
       "      <th>4</th>\n",
       "      <td>536365</td>\n",
       "      <td>84029E</td>\n",
       "      <td>RED WOOLLY HOTTIE WHITE HEART.</td>\n",
       "      <td>6</td>\n",
       "      <td>2016-11-29</td>\n",
       "      <td>3.39</td>\n",
       "      <td>17850</td>\n",
       "      <td>United Kingdom</td>\n",
       "    </tr>\n",
       "  </tbody>\n",
       "</table>\n",
       "</div>"
      ],
      "text/plain": [
       "  invoice_no stock_code                          description  quantity invoice_date  unit_price  customer_id         country\n",
       "0     536365     85123A   WHITE HANGING HEART T-LIGHT HOLDER         6   2016-11-29        2.55        17850  United Kingdom\n",
       "1     536365      71053                  WHITE METAL LANTERN         6   2016-11-29        3.39        17850  United Kingdom\n",
       "2     536365     84406B       CREAM CUPID HEARTS COAT HANGER         8   2016-11-29        2.75        17850  United Kingdom\n",
       "3     536365     84029G  KNITTED UNION FLAG HOT WATER BOTTLE         6   2016-11-29        3.39        17850  United Kingdom\n",
       "4     536365     84029E       RED WOOLLY HOTTIE WHITE HEART.         6   2016-11-29        3.39        17850  United Kingdom"
      ]
     },
     "execution_count": 57,
     "metadata": {},
     "output_type": "execute_result"
    }
   ],
   "source": [
    "df1.head()"
   ]
  },
  {
   "cell_type": "code",
   "execution_count": 58,
   "id": "1959c04e",
   "metadata": {},
   "outputs": [
    {
     "data": {
      "text/plain": [
       "invoice_no              object\n",
       "stock_code              object\n",
       "description             object\n",
       "quantity                 int64\n",
       "invoice_date    datetime64[ns]\n",
       "unit_price             float64\n",
       "customer_id              int64\n",
       "country                 object\n",
       "dtype: object"
      ]
     },
     "execution_count": 58,
     "metadata": {},
     "output_type": "execute_result"
    }
   ],
   "source": [
    "# Mostrando a mudança dos tipos\n",
    "df1.dtypes"
   ]
  },
  {
   "cell_type": "markdown",
   "id": "53aebd68",
   "metadata": {},
   "source": [
    "## 1.7 Estatística descritiva"
   ]
  },
  {
   "cell_type": "markdown",
   "id": "9a9e6360",
   "metadata": {},
   "source": [
    "### Será feito futuramente"
   ]
  },
  {
   "cell_type": "code",
   "execution_count": null,
   "id": "8b005435",
   "metadata": {},
   "outputs": [],
   "source": []
  },
  {
   "cell_type": "markdown",
   "id": "65b7dd0f",
   "metadata": {},
   "source": [
    "# <font color = \"red\" > 2.0. Engenharia de features </font>"
   ]
  },
  {
   "cell_type": "code",
   "execution_count": 59,
   "id": "008fb323",
   "metadata": {},
   "outputs": [],
   "source": [
    "df2 = df1.copy()"
   ]
  },
  {
   "cell_type": "markdown",
   "id": "d15066fa",
   "metadata": {},
   "source": [
    "## 2.1 Criação de features"
   ]
  },
  {
   "cell_type": "code",
   "execution_count": 60,
   "id": "f2f28b8b",
   "metadata": {},
   "outputs": [
    {
     "data": {
      "text/html": [
       "<div>\n",
       "<style scoped>\n",
       "    .dataframe tbody tr th:only-of-type {\n",
       "        vertical-align: middle;\n",
       "    }\n",
       "\n",
       "    .dataframe tbody tr th {\n",
       "        vertical-align: top;\n",
       "    }\n",
       "\n",
       "    .dataframe thead th {\n",
       "        text-align: right;\n",
       "    }\n",
       "</style>\n",
       "<table border=\"1\" class=\"dataframe\">\n",
       "  <thead>\n",
       "    <tr style=\"text-align: right;\">\n",
       "      <th></th>\n",
       "      <th>invoice_no</th>\n",
       "      <th>stock_code</th>\n",
       "      <th>description</th>\n",
       "      <th>quantity</th>\n",
       "      <th>invoice_date</th>\n",
       "      <th>unit_price</th>\n",
       "      <th>customer_id</th>\n",
       "      <th>country</th>\n",
       "    </tr>\n",
       "  </thead>\n",
       "  <tbody>\n",
       "    <tr>\n",
       "      <th>0</th>\n",
       "      <td>536365</td>\n",
       "      <td>85123A</td>\n",
       "      <td>WHITE HANGING HEART T-LIGHT HOLDER</td>\n",
       "      <td>6</td>\n",
       "      <td>2016-11-29</td>\n",
       "      <td>2.55</td>\n",
       "      <td>17850</td>\n",
       "      <td>United Kingdom</td>\n",
       "    </tr>\n",
       "    <tr>\n",
       "      <th>1</th>\n",
       "      <td>536365</td>\n",
       "      <td>71053</td>\n",
       "      <td>WHITE METAL LANTERN</td>\n",
       "      <td>6</td>\n",
       "      <td>2016-11-29</td>\n",
       "      <td>3.39</td>\n",
       "      <td>17850</td>\n",
       "      <td>United Kingdom</td>\n",
       "    </tr>\n",
       "    <tr>\n",
       "      <th>2</th>\n",
       "      <td>536365</td>\n",
       "      <td>84406B</td>\n",
       "      <td>CREAM CUPID HEARTS COAT HANGER</td>\n",
       "      <td>8</td>\n",
       "      <td>2016-11-29</td>\n",
       "      <td>2.75</td>\n",
       "      <td>17850</td>\n",
       "      <td>United Kingdom</td>\n",
       "    </tr>\n",
       "    <tr>\n",
       "      <th>3</th>\n",
       "      <td>536365</td>\n",
       "      <td>84029G</td>\n",
       "      <td>KNITTED UNION FLAG HOT WATER BOTTLE</td>\n",
       "      <td>6</td>\n",
       "      <td>2016-11-29</td>\n",
       "      <td>3.39</td>\n",
       "      <td>17850</td>\n",
       "      <td>United Kingdom</td>\n",
       "    </tr>\n",
       "    <tr>\n",
       "      <th>4</th>\n",
       "      <td>536365</td>\n",
       "      <td>84029E</td>\n",
       "      <td>RED WOOLLY HOTTIE WHITE HEART.</td>\n",
       "      <td>6</td>\n",
       "      <td>2016-11-29</td>\n",
       "      <td>3.39</td>\n",
       "      <td>17850</td>\n",
       "      <td>United Kingdom</td>\n",
       "    </tr>\n",
       "  </tbody>\n",
       "</table>\n",
       "</div>"
      ],
      "text/plain": [
       "  invoice_no stock_code                          description  quantity invoice_date  unit_price  customer_id         country\n",
       "0     536365     85123A   WHITE HANGING HEART T-LIGHT HOLDER         6   2016-11-29        2.55        17850  United Kingdom\n",
       "1     536365      71053                  WHITE METAL LANTERN         6   2016-11-29        3.39        17850  United Kingdom\n",
       "2     536365     84406B       CREAM CUPID HEARTS COAT HANGER         8   2016-11-29        2.75        17850  United Kingdom\n",
       "3     536365     84029G  KNITTED UNION FLAG HOT WATER BOTTLE         6   2016-11-29        3.39        17850  United Kingdom\n",
       "4     536365     84029E       RED WOOLLY HOTTIE WHITE HEART.         6   2016-11-29        3.39        17850  United Kingdom"
      ]
     },
     "execution_count": 60,
     "metadata": {},
     "output_type": "execute_result"
    }
   ],
   "source": [
    "df2.head()"
   ]
  },
  {
   "cell_type": "code",
   "execution_count": 61,
   "id": "ad10dabb",
   "metadata": {},
   "outputs": [],
   "source": [
    "# Tabela de Referência\n",
    "df_ref = df2.drop(['invoice_no','stock_code','description','quantity','invoice_date','unit_price','country'],axis=1).drop_duplicates(ignore_index=True)"
   ]
  },
  {
   "cell_type": "code",
   "execution_count": 62,
   "id": "0342ef4d",
   "metadata": {},
   "outputs": [
    {
     "data": {
      "text/html": [
       "<div>\n",
       "<style scoped>\n",
       "    .dataframe tbody tr th:only-of-type {\n",
       "        vertical-align: middle;\n",
       "    }\n",
       "\n",
       "    .dataframe tbody tr th {\n",
       "        vertical-align: top;\n",
       "    }\n",
       "\n",
       "    .dataframe thead th {\n",
       "        text-align: right;\n",
       "    }\n",
       "</style>\n",
       "<table border=\"1\" class=\"dataframe\">\n",
       "  <thead>\n",
       "    <tr style=\"text-align: right;\">\n",
       "      <th></th>\n",
       "      <th>customer_id</th>\n",
       "    </tr>\n",
       "  </thead>\n",
       "  <tbody>\n",
       "    <tr>\n",
       "      <th>0</th>\n",
       "      <td>17850</td>\n",
       "    </tr>\n",
       "    <tr>\n",
       "      <th>1</th>\n",
       "      <td>13047</td>\n",
       "    </tr>\n",
       "    <tr>\n",
       "      <th>2</th>\n",
       "      <td>12583</td>\n",
       "    </tr>\n",
       "    <tr>\n",
       "      <th>3</th>\n",
       "      <td>13748</td>\n",
       "    </tr>\n",
       "    <tr>\n",
       "      <th>4</th>\n",
       "      <td>15100</td>\n",
       "    </tr>\n",
       "  </tbody>\n",
       "</table>\n",
       "</div>"
      ],
      "text/plain": [
       "   customer_id\n",
       "0        17850\n",
       "1        13047\n",
       "2        12583\n",
       "3        13748\n",
       "4        15100"
      ]
     },
     "execution_count": 62,
     "metadata": {},
     "output_type": "execute_result"
    }
   ],
   "source": [
    "df_ref.head()"
   ]
  },
  {
   "cell_type": "code",
   "execution_count": 63,
   "id": "b6d2b2ea",
   "metadata": {},
   "outputs": [],
   "source": [
    "# Faturamento Bruto\n",
    "df2['gross_revenue'] = df2['quantity'] * df2['unit_price']"
   ]
  },
  {
   "cell_type": "code",
   "execution_count": 64,
   "id": "17872c2a",
   "metadata": {},
   "outputs": [],
   "source": [
    "# Valor Monetário\n",
    "\n",
    "# Como foi feito: após separar a tabela de referência, agrupei o df2 pela coluna customer_id e somei o gross_revenue.\n",
    "# Depois, fiz um merge com a tabela de referência.\n",
    "df_monetary = df2.loc[:,['customer_id','gross_revenue']].groupby('customer_id').sum().reset_index()\n",
    "df_ref = pd.merge(df_ref, df_monetary, on='customer_id',how='left')\n"
   ]
  },
  {
   "cell_type": "code",
   "execution_count": null,
   "id": "57387259",
   "metadata": {},
   "outputs": [],
   "source": [
    "# Recência\n",
    "\n",
    "# Como foi feito: após separar a tabela de referência, agrupei o df2 pela coluna customer_id e peguei a data máxima do \n",
    "# invoice_date.\n",
    "# Depois, subtraí a data máxima do invoice_date do df2 pela data máxima do invoice_date do grupo.\n",
    "df_recency = df2.loc[:,['customer_id','invoice_date']].groupby('customer_id').max().reset_index()\n",
    "df_recency['recency_days'] = (df2['invoice_date'].max() - df_recency['invoice_date']).dt.days # vetoriza a série para aplicar o day\n",
    "df_recency = df_recency[['customer_id','recency_days']].copy()\n",
    "df_ref = pd.merge(df_ref, df_recency, on='customer_id',how='left')\n"
   ]
  },
  {
   "cell_type": "code",
   "execution_count": 66,
   "id": "5023b50b",
   "metadata": {},
   "outputs": [],
   "source": [
    "# Frequência\n",
    "\n",
    "# Como foi feito: após separar a tabela de referência, agrupei o df2 pela coluna customer_id e contei o número único de\n",
    "# invoice_no.\n",
    "# Depois, fiz um merge com a tabela de referência.\n",
    "df_freq = df2.loc[:,['customer_id','invoice_no']].groupby('customer_id').nunique().reset_index()\n",
    "df_ref = pd.merge(df_ref, df_freq,on='customer_id',how='left')"
   ]
  },
  {
   "cell_type": "code",
   "execution_count": 67,
   "id": "bd97be96",
   "metadata": {},
   "outputs": [
    {
     "data": {
      "text/html": [
       "<div>\n",
       "<style scoped>\n",
       "    .dataframe tbody tr th:only-of-type {\n",
       "        vertical-align: middle;\n",
       "    }\n",
       "\n",
       "    .dataframe tbody tr th {\n",
       "        vertical-align: top;\n",
       "    }\n",
       "\n",
       "    .dataframe thead th {\n",
       "        text-align: right;\n",
       "    }\n",
       "</style>\n",
       "<table border=\"1\" class=\"dataframe\">\n",
       "  <thead>\n",
       "    <tr style=\"text-align: right;\">\n",
       "      <th></th>\n",
       "      <th>customer_id</th>\n",
       "      <th>gross_revenue</th>\n",
       "      <th>recency_days</th>\n",
       "      <th>invoice_no</th>\n",
       "    </tr>\n",
       "  </thead>\n",
       "  <tbody>\n",
       "    <tr>\n",
       "      <th>0</th>\n",
       "      <td>17850</td>\n",
       "      <td>5288.63</td>\n",
       "      <td>302</td>\n",
       "      <td>35</td>\n",
       "    </tr>\n",
       "    <tr>\n",
       "      <th>1</th>\n",
       "      <td>13047</td>\n",
       "      <td>3079.10</td>\n",
       "      <td>31</td>\n",
       "      <td>18</td>\n",
       "    </tr>\n",
       "    <tr>\n",
       "      <th>2</th>\n",
       "      <td>12583</td>\n",
       "      <td>7187.34</td>\n",
       "      <td>2</td>\n",
       "      <td>18</td>\n",
       "    </tr>\n",
       "    <tr>\n",
       "      <th>3</th>\n",
       "      <td>13748</td>\n",
       "      <td>948.25</td>\n",
       "      <td>95</td>\n",
       "      <td>5</td>\n",
       "    </tr>\n",
       "    <tr>\n",
       "      <th>4</th>\n",
       "      <td>15100</td>\n",
       "      <td>635.10</td>\n",
       "      <td>330</td>\n",
       "      <td>6</td>\n",
       "    </tr>\n",
       "  </tbody>\n",
       "</table>\n",
       "</div>"
      ],
      "text/plain": [
       "   customer_id  gross_revenue  recency_days  invoice_no\n",
       "0        17850        5288.63           302          35\n",
       "1        13047        3079.10            31          18\n",
       "2        12583        7187.34             2          18\n",
       "3        13748         948.25            95           5\n",
       "4        15100         635.10           330           6"
      ]
     },
     "execution_count": 67,
     "metadata": {},
     "output_type": "execute_result"
    }
   ],
   "source": [
    "df_ref.head()"
   ]
  },
  {
   "cell_type": "code",
   "execution_count": 68,
   "id": "1017dd79",
   "metadata": {},
   "outputs": [
    {
     "data": {
      "text/plain": [
       "customer_id      0\n",
       "gross_revenue    0\n",
       "recency_days     0\n",
       "invoice_no       0\n",
       "dtype: int64"
      ]
     },
     "execution_count": 68,
     "metadata": {},
     "output_type": "execute_result"
    }
   ],
   "source": [
    "df_ref.isna().sum()"
   ]
  },
  {
   "cell_type": "markdown",
   "id": "5b5d1b02",
   "metadata": {},
   "source": [
    "# <font color = \"red\" > 3.0. Filtragem de Variáveis </font>"
   ]
  },
  {
   "cell_type": "code",
   "execution_count": 69,
   "id": "7d013181",
   "metadata": {},
   "outputs": [],
   "source": [
    "df3 = df_ref.copy()"
   ]
  },
  {
   "cell_type": "markdown",
   "id": "6e765828",
   "metadata": {},
   "source": [
    "# <font color = \"red\" > 4.0. EDA (Análise Exploratória de Dados) </font>"
   ]
  },
  {
   "cell_type": "code",
   "execution_count": 70,
   "id": "91cb9e9c",
   "metadata": {},
   "outputs": [],
   "source": [
    "df4 = df3.copy()"
   ]
  },
  {
   "cell_type": "markdown",
   "id": "3609a123",
   "metadata": {},
   "source": [
    "# <font color = \"red\" > 5.0. Preparação de Dados </font>"
   ]
  },
  {
   "cell_type": "code",
   "execution_count": 71,
   "id": "9ef4a8fe",
   "metadata": {},
   "outputs": [],
   "source": [
    "df5 = df4.copy()"
   ]
  },
  {
   "cell_type": "markdown",
   "id": "8bdf5156",
   "metadata": {},
   "source": [
    "# <font color = \"red\" > 6.0. Seleção de Feature </font>"
   ]
  },
  {
   "cell_type": "code",
   "execution_count": 72,
   "id": "84f34783",
   "metadata": {},
   "outputs": [],
   "source": [
    "df6 = df5.copy()"
   ]
  },
  {
   "cell_type": "markdown",
   "id": "48db66cc",
   "metadata": {},
   "source": [
    "# <font color = \"red\" > 7.0. Hiperparâmetro: Fine Tuning </font>"
   ]
  },
  {
   "cell_type": "code",
   "execution_count": 73,
   "id": "ef65b67f",
   "metadata": {},
   "outputs": [],
   "source": [
    "df7 = df6.drop(columns=['customer_id'])\n",
    "clusters = [2,3,4,5,6]"
   ]
  },
  {
   "cell_type": "markdown",
   "id": "9586fed7",
   "metadata": {},
   "source": [
    "## 7.1 Within-Cluster Sum of Square (WSS)"
   ]
  },
  {
   "cell_type": "code",
   "execution_count": 74,
   "id": "40e3800d",
   "metadata": {},
   "outputs": [
    {
     "data": {
      "image/png": "[encoded data removed]",
      "text/plain": [
       "<Figure size 2500x1200 with 1 Axes>"
      ]
     },
     "metadata": {},
     "output_type": "display_data"
    }
   ],
   "source": [
    "wss = []\n",
    "for k in clusters:\n",
    "  #model definition\n",
    "  kmeans = c.KMeans(init='random',n_clusters=k,n_init=10,max_iter=300,random_state=42)\n",
    "\n",
    "  #model training\n",
    "  kmeans.fit(df7)\n",
    "  \n",
    "  #validation\n",
    "  wss.append(kmeans.inertia_)\n",
    "\n",
    "#plot wss - Ewbow Method\n",
    "plt.plot(clusters,wss,linestyle='--',marker='o',color='b');\n",
    "plt.xlabel('K');\n",
    "plt.ylabel('WSS');\n",
    "plt.title('WSS x K');"
   ]
  },
  {
   "cell_type": "code",
   "execution_count": 75,
   "id": "623216ea",
   "metadata": {},
   "outputs": [
    {
     "data": {
      "image/png": "[encoded data removed]",
      "text/plain": [
       "<Figure size 2500x1200 with 1 Axes>"
      ]
     },
     "metadata": {},
     "output_type": "display_data"
    }
   ],
   "source": [
    "kmeans = KElbowVisualizer(c.KMeans(),k=clusters,timings=False)\n",
    "kmeans.fit(df7)\n",
    "kmeans.show();"
   ]
  },
  {
   "cell_type": "markdown",
   "id": "12a038c7",
   "metadata": {},
   "source": [
    "## 7.2 Score de Silhouetta"
   ]
  },
  {
   "cell_type": "code",
   "execution_count": 76,
   "id": "370a4f1c",
   "metadata": {},
   "outputs": [
    {
     "data": {
      "image/png": "[encoded data removed]",
      "text/plain": [
       "<Figure size 2500x1200 with 1 Axes>"
      ]
     },
     "metadata": {},
     "output_type": "display_data"
    }
   ],
   "source": [
    "kmeans = KElbowVisualizer(c.KMeans(),k=clusters,timings=False,metric='silhouette')\n",
    "kmeans.fit(df7)\n",
    "kmeans.show();"
   ]
  },
  {
   "cell_type": "markdown",
   "id": "e04ec4c5",
   "metadata": {},
   "source": [
    "# <font color = \"red\" > 8.0. Treinamento do modelo </font>"
   ]
  },
  {
   "cell_type": "code",
   "execution_count": 77,
   "id": "1c6addd4",
   "metadata": {},
   "outputs": [],
   "source": [
    "df8 = df7.copy()"
   ]
  },
  {
   "cell_type": "markdown",
   "id": "a364b1f3",
   "metadata": {},
   "source": [
    "## 8.1 K-Means"
   ]
  },
  {
   "cell_type": "code",
   "execution_count": null,
   "id": "86c0c3d6",
   "metadata": {},
   "outputs": [],
   "source": [
    "k=3 #definido\n",
    "#model definition\n",
    "kmeans = c.KMeans(init='random',n_clusters=k,n_init=10,max_iter=300,random_state=42)\n",
    "#model training\n",
    "kmeans.fit(df8)\n",
    "#validation\n",
    "labels = kmeans.labels_"
   ]
  },
  {
   "cell_type": "markdown",
   "id": "3356a7b8",
   "metadata": {},
   "source": [
    "## 8.2 Validação de clusters"
   ]
  },
  {
   "cell_type": "code",
   "execution_count": 79,
   "id": "9ed0d785",
   "metadata": {},
   "outputs": [
    {
     "name": "stdout",
     "output_type": "stream",
     "text": [
      "WSS value: 52830442008.00697\n",
      "SS value: 0.9494677566681542\n"
     ]
    }
   ],
   "source": [
    "# WSS (Within-Cluster Sum of Square)\n",
    "print(f'WSS value: {kmeans.inertia_}')\n",
    "\n",
    "# SS (Silhouette Score)\n",
    "\n",
    "print('SS value: {}'.format(m.silhouette_score(df8,labels,metric='euclidean')))"
   ]
  },
  {
   "cell_type": "markdown",
   "id": "8a119901",
   "metadata": {},
   "source": [
    "# <font color = \"red\" > 9.0. Análise de Cluster </font>"
   ]
  },
  {
   "cell_type": "code",
   "execution_count": 80,
   "id": "873c634c",
   "metadata": {},
   "outputs": [
    {
     "data": {
      "text/html": [
       "<div>\n",
       "<style scoped>\n",
       "    .dataframe tbody tr th:only-of-type {\n",
       "        vertical-align: middle;\n",
       "    }\n",
       "\n",
       "    .dataframe tbody tr th {\n",
       "        vertical-align: top;\n",
       "    }\n",
       "\n",
       "    .dataframe thead th {\n",
       "        text-align: right;\n",
       "    }\n",
       "</style>\n",
       "<table border=\"1\" class=\"dataframe\">\n",
       "  <thead>\n",
       "    <tr style=\"text-align: right;\">\n",
       "      <th></th>\n",
       "      <th>customer_id</th>\n",
       "      <th>gross_revenue</th>\n",
       "      <th>recency_days</th>\n",
       "      <th>invoice_no</th>\n",
       "      <th>cluster</th>\n",
       "    </tr>\n",
       "  </thead>\n",
       "  <tbody>\n",
       "    <tr>\n",
       "      <th>0</th>\n",
       "      <td>17850</td>\n",
       "      <td>5288.63</td>\n",
       "      <td>302</td>\n",
       "      <td>35</td>\n",
       "      <td>0</td>\n",
       "    </tr>\n",
       "    <tr>\n",
       "      <th>1</th>\n",
       "      <td>13047</td>\n",
       "      <td>3079.10</td>\n",
       "      <td>31</td>\n",
       "      <td>18</td>\n",
       "      <td>0</td>\n",
       "    </tr>\n",
       "    <tr>\n",
       "      <th>2</th>\n",
       "      <td>12583</td>\n",
       "      <td>7187.34</td>\n",
       "      <td>2</td>\n",
       "      <td>18</td>\n",
       "      <td>0</td>\n",
       "    </tr>\n",
       "    <tr>\n",
       "      <th>3</th>\n",
       "      <td>13748</td>\n",
       "      <td>948.25</td>\n",
       "      <td>95</td>\n",
       "      <td>5</td>\n",
       "      <td>0</td>\n",
       "    </tr>\n",
       "    <tr>\n",
       "      <th>4</th>\n",
       "      <td>15100</td>\n",
       "      <td>635.10</td>\n",
       "      <td>330</td>\n",
       "      <td>6</td>\n",
       "      <td>0</td>\n",
       "    </tr>\n",
       "  </tbody>\n",
       "</table>\n",
       "</div>"
      ],
      "text/plain": [
       "   customer_id  gross_revenue  recency_days  invoice_no  cluster\n",
       "0        17850        5288.63           302          35        0\n",
       "1        13047        3079.10            31          18        0\n",
       "2        12583        7187.34             2          18        0\n",
       "3        13748         948.25            95           5        0\n",
       "4        15100         635.10           330           6        0"
      ]
     },
     "execution_count": 80,
     "metadata": {},
     "output_type": "execute_result"
    }
   ],
   "source": [
    "df9 = df6.copy()\n",
    "df9['cluster'] = labels\n",
    "df9.head()"
   ]
  },
  {
   "cell_type": "markdown",
   "id": "cd57da43",
   "metadata": {},
   "source": [
    "## 9.1. Inspeção de visualização "
   ]
  },
  {
   "cell_type": "code",
   "execution_count": 81,
   "id": "48ba05db",
   "metadata": {},
   "outputs": [
    {
     "data": {
      "application/vnd.plotly.v1+json": {
       "config": {
        "plotlyServerURL": "https://plot.ly"
       },
       "data": [
        {
         "hovertemplate": "recency_days=%{x}<br>invoice_no=%{y}<br>gross_revenue=%{z}<br>cluster=%{marker.color}<extra></extra>",
         "legendgroup": "",
         "marker": {
          "color": {
           "bdata": "AAAAAAAAAAAAAAAAAAAAAAAAAAAAAAAAAAAAAAAAAAACAAAAAAAAAAAAAAAAAAAAAAAAAAIAAAAAAAAAAAAAAAIAAAAAAAAAAAAAAAAAAAACAAAAAAAAAAAAAAAAAAAAAAAAAAAAAAAAAAAAAAAAAAAAAAAAAAAAAAAAAAAAAAAAAAAAAAAAAAAAAAAAAAAAAAAAAAIAAAAAAAAAAAAAAAAAAAACAAAAAAAAAAAAAAAAAAAAAAAAAAAAAAAAAAAAAgAAAAAAAAAAAAAAAAAAAAAAAAAAAAAAAAAAAAAAAAAAAAAAAAAAAAAAAAAAAAAAAAAAAAAAAAAAAAAAAAAAAAAAAAAAAAAAAAAAAAEAAAAAAAAAAgAAAAAAAAAAAAAAAAAAAAAAAAAAAAAAAAAAAAAAAAAAAAAAAAAAAAAAAAAAAAAAAAAAAAAAAAAAAAAAAAAAAAIAAAAAAAAAAAAAAAAAAAAAAAAAAAAAAAAAAAAAAAAAAAAAAAAAAAAAAAAAAAAAAAAAAAAAAAAAAAAAAAAAAAAAAAAAAAAAAAAAAAAAAAAAAAAAAAAAAAAAAAAAAAAAAAAAAAAAAAAAAAAAAAAAAAAAAAAAAAAAAAAAAAAAAAAAAAAAAAAAAAAAAAAAAAAAAAAAAAAAAAAAAAAAAAAAAAAAAAAAAAAAAAAAAAAAAAAAAAAAAAAAAAAAAAAAAAAAAAAAAAAAAAAAAAAAAAAAAAAAAAAAAAAAAAAAAAAAAAAAAAAAAAAAAAAAAAAAAAAAAAAAAAAAAAAAAAAAAAAAAAAAAAAAAAAAAAAAAAACAAAAAAAAAAAAAAAAAAAAAAAAAAAAAAAAAAAAAAAAAAAAAAAAAAAAAAAAAAIAAAAAAAAAAAAAAAAAAAAAAAAAAAAAAAAAAAAAAAAAAAAAAAAAAAAAAAAAAAAAAAAAAAAAAAAAAAAAAAAAAAAAAAAAAAAAAAEAAAAAAAAAAAAAAAAAAAAAAAAAAAAAAAAAAAACAAAAAAAAAAAAAAAAAAAAAAAAAAAAAAAAAAAAAAAAAAAAAAAAAAAAAAAAAAAAAAAAAAAAAAAAAAAAAAAAAAAAAAAAAAAAAAAAAAAAAAAAAAAAAAAAAAAAAAAAAAAAAAAAAAAAAAAAAAAAAAAAAAAAAAAAAAAAAAAAAAAAAAAAAAAAAAAAAAAAAAAAAAIAAAAAAAAAAAAAAAAAAAAAAAAAAAAAAAAAAAAAAAAAAgAAAAIAAAAAAAAAAAAAAAAAAAAAAAAAAAAAAAAAAAAAAAAAAAAAAAAAAAAAAAAAAAAAAAAAAAAAAAAAAgAAAAAAAAAAAAAAAAAAAAAAAAAAAAAAAAAAAAIAAAAAAAAAAAAAAAAAAAAAAAAAAgAAAAAAAAAAAAAAAAAAAAAAAAAAAAAAAAAAAAAAAAAAAAAAAAAAAAAAAAAAAAAAAAAAAAAAAAAAAAAAAAAAAAAAAAAAAAAAAAAAAAAAAAAAAAAAAAAAAAAAAAAAAAAAAAAAAAAAAAAAAAAAAAAAAAAAAAAAAAAAAAAAAAAAAAAAAAAAAAAAAAAAAAAAAAAAAAAAAAAAAAAAAAAAAAAAAAAAAAAAAAAAAAAAAAAAAAAAAAAAAAAAAAAAAAAAAAAAAAAAAAAAAAAAAAAAAAAAAAAAAAAAAAAAAAAAAAAAAAACAAAAAAAAAAAAAAAAAAAAAAAAAAAAAAAAAAAAAAAAAAAAAAAAAAAAAAAAAAAAAAAAAAAAAAAAAAAAAAAAAAAAAAAAAAAAAAAAAAAAAAAAAAAAAAAAAAAAAAAAAAAAAAAAAAAAAAAAAAAAAAAAAAAAAAAAAAAAAAAAAAAAAAAAAAAAAAAAAAAAAAAAAAAAAAAAAAAAAAAAAAAAAAAAAAAAAAAAAAAAAAAAAAAAAAAAAAAAAAAAAAAAAAAAAAAAAAAAAAAAAAAAAAAAAAAAAAAAAAAAAAAAAAAAAAAAAAAAAAAAAAAAAAAAAAAAAAAAAAAAAAAAAAAAAAAAAAAAAAAAAAAAAAAAAAAAAAAAAAAAAAAAAAAAAAAAAAAAAAAAAAAAAAAAAAAAAAAAAAAAAAAAAAAAAAAAAAAAAAAAAAAAAAAAAAAAAAAAAAAAAAAAAAAAAAAAAAAAAAAAAAAAAAAAAQAAAAAAAAAAAAAAAAAAAAAAAAAAAAAAAAAAAAAAAAAAAAAAAAAAAAAAAAAAAAAAAAAAAAAAAAAAAAAAAAAAAAAAAAAAAAAAAAAAAAAAAAAAAAAAAAAAAAAAAAAAAAAAAAAAAAAAAAAAAAAAAAAAAAAAAAAAAAAAAAAAAAAAAAAAAAAAAAAAAAAAAAAAAAAAAAAAAAAAAAAAAAAAAAAAAAAAAAAAAAAAAAAAAAAAAAAAAAAAAAAAAAAAAAAAAAAAAQAAAAAAAAAAAAAAAAAAAAAAAAAAAAAAAAAAAAAAAAAAAAAAAAAAAAAAAAAAAAAAAAAAAAAAAAAAAAAAAAAAAAAAAAAAAAAAAAAAAAAAAAAAAAAAAAAAAAAAAAAAAAAAAAAAAAAAAAAAAAAAAAAAAAAAAAAAAAAAAAAAAAAAAAAAAAAAAAAAAAAAAAAAAAAAAAAAAAAAAAAAAAAAAAAAAAAAAAAAAAAAAAAAAAAAAAAAAAAAAAAAAAAAAAAAAAAAAAAAAAAAAAAAAAAAAAAAAAAAAAAAAAAAAAAAAAAAAAAAAAAAAAAAAAAAAAAAAAAAAAAAAAAAAAAAAAAAAAAAAAAAAAAAAAAAAAAAAAAAAAAAAAAAAAAAAAAAAAAAAAAAAAAAAAAAAAAAAAAAAAAAAAAAAAAAAAAAAAAAAAAAAAAAAAAAAAAAAAAAAAAAAAAAAAAAAAAAAAAAAAAAAAAAAAAAAAAAAAAAAAAAAAAAAAAAAAAAAAAAAAAAAAAAAAAAAAAAAAAAAAAAAAAAAAAAAAAAAAAAAAAAAAAAAAAAAAAAAAAAAAAAAAAAAAACAAAAAAAAAAAAAAAAAAAAAAAAAAAAAAAAAAAAAAAAAAAAAAAAAAAAAAAAAAAAAAAAAAAAAAAAAAAAAAAAAAAAAAAAAAAAAAAAAAAAAAAAAAAAAAAAAAAAAAAAAAAAAAAAAAAAAAAAAAAAAAAAAAAAAAAAAAAAAAAAAAAAAAAAAAAAAAAAAAAAAAAAAAAAAAAAAAAAAAAAAAAAAAAAAAAAAAAAAAAAAAAAAAAAAAAAAAAAAAAAAAAAAAAAAAAAAAAAAAAAAAAAAAAAAAAAAAAAAAAAAAAAAAAAAAAAAAAAAAAAAAAAAAAAAAAAAAAAAAAAAAAAAAAAAAAAAAAAAAAAAAAAAAAAAAAAAAAAAAAAAAAAAAAAAAAAAAAAAAAAAAAAAAAAAAAAAAAAAAAAAAAAAAAAAAAAAAAAAAAAAAAAAAAAAAAAAAAAAAAAAAAAAAAAAAAAAAAAAAAAAAAAAAAAAAAAAAAAAAAAAAAAAAAAAAAAAAAAAAAAAAAAAAAAAAAAAAAAAAAAAAAAAAAAAAAAAAAAAAAAAAAAAAAAAAAAAAAAAAAAAAAAAAAAAAAAAAAAAAAAAAAAAAIAAAAAAAAAAAAAAAAAAAAAAAAAAAAAAAAAAAAAAAAAAAAAAAAAAAAAAAAAAAAAAAAAAAAAAAAAAAAAAAAAAAAAAAAAAAAAAAAAAAAAAAAAAAAAAAAAAAAAAAAAAAAAAAAAAAAAAAAAAAAAAAAAAAAAAAAAAAAAAAAAAAAAAAAAAAAAAAAAAAAAAAAAAAAAAAAAAAAAAAAAAAAAAAAAAAAAAAAAAAAAAAAAAAAAAAAAAAAAAAAAAAAAAAAAAAAAAAAAAAAAAAAAAAAAAAAAAAAAAAAAAAAAAAAAAAAAAAAAAAAAAAAAAAAAAAAAAAAAAAAAAAAAAAAAAAAAAAAAAAAAAAAAAAAAAAAAAAAAAAAAAAAAAAAAAAAAAAAAAAAAAAAAAAAAAAAAAAAAAAAAAAAAAAAAAAAAAAAAAAAAAAAAAAAAAAAAAAAAAAAAAAAAAAAAAAACAAAAAAAAAAAAAAAAAAAAAAAAAAIAAAAAAAAAAAAAAAAAAAAAAAAAAAAAAAAAAAAAAAAAAAAAAAAAAAAAAAAAAAAAAAAAAAAAAAAAAAAAAAAAAAAAAAAAAAAAAAAAAAAAAAAAAAAAAAAAAAAAAAAAAAAAAAAAAAAAAAAAAAAAAAAAAAAAAAAAAAAAAAAAAAAAAAAAAAAAAAAAAAAAAAAAAAAAAAAAAAAAAAAAAAAAAAAAAAAAAAAAAAAAAAAAAAAAAAAAAAAAAAAAAAAAAAAAAAAAAAAAAAAAAAAAAAAAAAAAAAAAAAAAAAAAAAAAAAAAAAAAAAAAAAAAAAAAAAAAAAAAAAAAAAAAAAAAAAAAAAAAAAAAAAAAAAAAAAAAAAAAAAAAAAAAAAAAAAAAAAAAAAAAAAAAAAAAAAAAAAAAAAAAAAAAAAAAAAAAAAAAAAAAAAAAAAAAAAAAAAAAAAAAAAAAAAAAAAAAAAAAAAAAAAAAAAAAAAAAAAAAAAAAAAAAAAAAAAAAAAAAAAAAAAAAAAAAAAAAAAAAAAAAAAAAAAAAAAAAAAAAAAAAAAAAAAAAAAAAAAAAAAAAAAACAAAAAAAAAAAAAAAAAAAAAAAAAAAAAAAAAAAAAAAAAAAAAAAAAAAAAAAAAAAAAAAAAAAAAAAAAAIAAAAAAAAAAAAAAAAAAAAAAAAAAAAAAAAAAAAAAAAAAAAAAAAAAAAAAAAAAAAAAAAAAAAAAAAAAAAAAAAAAAAAAAAAAAAAAAAAAAAAAAAAAAAAAAAAAAAAAAAAAAAAAAAAAAAAAAAAAAAAAAAAAAAAAAAAAAAAAAAAAAABAAAAAAAAAAAAAAAAAAAAAAAAAAAAAAAAAAAAAAAAAAAAAAAAAAAAAAAAAAAAAAAAAAAAAAAAAAAAAAAAAAAAAAAAAAAAAAAAAAAAAAAAAAAAAAAAAAAAAAAAAAAAAAAAAAAAAAAAAAAAAAAAAAAAAAAAAAAAAAAAAAAAAAAAAAAAAAAAAAAAAAAAAAAAAAAAAAAAAAAAAAAAAAAAAAAAAAAAAAAAAAAAAAAAAAAAAAAAAAAAAAAAAAAAAAAAAAAAAAAAAAAAAAAAAAAAAAAAAAAAAAAAAAACAAAAAAAAAAAAAAAAAAAAAAAAAAAAAAAAAAAAAAAAAAAAAAAAAAAAAAAAAAAAAAAAAAAAAAAAAAAAAAAAAAAAAAAAAAEAAAAAAAAAAAAAAAAAAAAAAAAAAAAAAAAAAAAAAAAAAAAAAAAAAAAAAAAAAAAAAAAAAAAAAAAAAAAAAAAAAAAAAAAAAAAAAAAAAAAAAAAAAAAAAAAAAAAAAAAAAAAAAAAAAAAAAAAAAAAAAAAAAAAAAAAAAAAAAAAAAAAAAAAAAAAAAAAAAAAAAAAAAAAAAAAAAAAAAAAAAAAAAAAAAAAAAAAAAAAAAAAAAAAAAAAAAAAAAAAAAAAAAAAAAAAAAAAAAAAAAAAAAAAAAAAAAAAAAAAAAAAAAAAAAAAAAAAAAAAAAAAAAAAAAAAAAAAAAAAAAAAAAAAAAAAAAAAAAAAAAAAAAAAAAAAAAAAAAAAAAAAAAAAAAAAAAAAAAAAAAAAAAAAAAAAAAAAAAAAAAAAAAAAAAAAAAAAAAAAAAAAAAAAAAAAAAAAAAAAAAAAAAAAAAAAAAAAAAAAAAAAAAAAAAAAAAAAAAAAAAAAAAAAAAAAAAAAAAAAAAAAAAAAAAAAAAAACAAAAAAAAAAAAAAAAAAAAAAAAAAAAAAAAAAAAAAAAAAAAAAAAAAAAAAAAAAAAAAAAAAAAAAAAAAAAAAAAAAAAAAAAAAAAAAAAAAAAAAAAAAAAAAAAAAAAAAAAAAAAAAAAAAAAAAAAAAAAAAAAAAAAAAAAAAAAAAAAAAAAAAAAAAAAAAAAAAAAAAAAAAAAAAAAAAAAAAAAAAAAAAAAAAAAAAAAAAAAAAAAAAAAAAAAAAAAAAAAAAAAAAAAAAAAAAAAAAAAAAAAAAAAAAAAAAAAAAAAAAAAAAAAAAAAAAAAAAAAAAAAAAAAAAAAAAAAAAAAAAAAAAAAAAAAAAAAAAAAAAAAAAAAAAAAAAAAAAAAAAAAAAAAAAAAAAAAAAAAAAAAAAAAAAAAAAAAAAAAAAAAAAAAAAAAAAAAAAAAAAAAAAAAAAAAAAAAAAAAAAAAAAAAAAAAAAAAAAAAAAAAAAAAAAAAAAAAAAAAAAAAAAAAAAAAAAAAAAAAAAAAAAAAAAAAAAAAAAAAAAAAAAAAAAAAAAAAAAAAAAAAAAAAAAAAAAAAAAAAAAAAAAAAAAAAAAAAAAAAAAAAAAAAAAAAAAAAAAAAAAAAAAAAAAAAAAAAAAAAAAAAAAAAAAAAAAAAAAAAAAAAAAAAAAAAAAAAAAAAAAAAAAAAAAAAAAAAAAAAAAAAAAAAAAAAAAAAAAAAAAAAAAAAAAAAAAAAAAAAAAAAAgAAAAAAAAAAAAAAAAAAAAAAAAAAAAAAAAAAAAAAAAAAAAAAAAAAAAAAAAAAAAAAAAAAAAAAAAAAAAAAAAAAAAAAAAAAAAAAAAAAAAAAAAAAAAAAAAAAAAAAAAAAAAAAAAAAAAAAAAAAAAAAAAAAAAAAAAAAAAAAAAAAAAAAAAAAAAAAAAAAAAAAAAAAAAAAAAAAAAAAAAAAAAAAAAAAAAAAAAAAAAAAAAAAAAAAAAAAAAAAAAAAAAAAAAAAAAAAAAAAAAAAAAAAAAAAAAAAAAAAAAAAAAAAAAAAAAAAAAAAAAAAAAAAAAAAAAAAAAAAAAAAAAAAAAAAAAAAAAAAAAAAAAAAAAAAAAAAAAAAAAAAAAAAAAAAAAAAAAAAAAAAAAAAAAAAAAAAAAAAAAAAAAAAAAAAAAAAAAAAAAAAAAAAAAAAAAAAAAAAAAACAAAAAAAAAAAAAAAAAAAAAAAAAAAAAAAAAAAAAAAAAAAAAAAAAAAAAAAAAAAAAAAAAAAAAAAAAAAAAAAAAAAAAAAAAAAAAAAAAAAAAAAAAAAAAAAAAAAAAAAAAAAAAAAAAAAAAAAAAAAAAAAAAAAAAAAAAAAAAAAAAAAAAAAAAAAAAAAAAAAAAAAAAAAAAAAAAAAAAAAAAAAAAAAAAAAAAAAAAAAAAAAAAAAAAAAAAAAAAAAAAAAAAAAAAAAAAAAAAAAAAAAAAAAAAAAAAAAAAAAAAAAAAAAAAAAAAAAAAAAAAAAAAAAAAAAAAAAAAAAAAAAAAAAAAAAAAAAAAAAAAAAAAAAAAAAAAAAAAAAAAAAAAAAAAAAAAAAAAAAAAAAAAAAAAAAAAAAAAAAAAAAAAAAAAAAAAAAAAAAAAAAAAAAAAAAAAAAAAAAAAAAAAAAAAAAAAAAAAAAAAAAAAAAAAAAAAAAAAAAAAAAAAAAAAAAAAAAAAAAAAAAAAAAAAAAAAAAAAAAAAAAAAAAAAAAAAAAAAAAAAAAAAAAAAAAAAAAAAAAAAAAAAAAAAAAAAAAAAAAAAAAAAAAAAAAAAAAAAAAAAAAAAAAAAAAAAAAAAAAAAAAAAAAAAAAAAAAAAAAAAAAAAAAAAAAAAAAAAAAAAAAAAAAAAAAAAAAAAAAAAAAAAAAAAAAAAAAAAAAAAAAAAAAAAgAAAAAAAAAAAAAAAAAAAAAAAAAAAAAAAAAAAAAAAAAAAAAAAAAAAAAAAAAAAAAAAAAAAAAAAAAAAAAAAAAAAAAAAAAAAAAAAAAAAAAAAAAAAAAAAAAAAAAAAAAAAAAAAAAAAAAAAAAAAAAAAAAAAAAAAAAAAAAAAAAAAAAAAAAAAAAAAAAAAAAAAAAAAAAAAAAAAAAAAAAAAAAAAAAAAAAAAAAAAAAAAAAAAAAAAAAAAAAAAAAAAAAAAAAAAAAAAAAAAAAAAAAAAAAAAAAAAAAAAAAAAAAAAAAAAAAAAAAAAAAAAAAAAAAAAAAAAAAAAAAAAAAAAAAAAAAAAAAAAAAAAAAAAAAAAAAAAAAAAAAAAAAAAAAAAAAAAAAAAAAAAAAAAAAAAAAAAAAAAAAAAAAAAAAAAAAAAAAAAAAAAAAAAAAAAAAAAAAAAAAAAAAAAAAAAAAAAAAAAAAAAAAAAAAAAAAAAAAAAAAAAAAAAAAAAAAAAAAAAAAAAAAAAAAAAAAAAAAAAAAAAAAAAAAAAAAAAAAAAAAAAAAAAAAAAAAAAAAAAAAAAAAAAAAAAAAAAAAAAAAAAAAAAAAAAAAAAAAAAAAAAAAAAAAAAAAAAAAAAAAAAAAAAAAAAAAAAAAAAAAAAAAAAAAAAAAAAAAAAAAAAAAAAAAAAAAAAAAAAAAAAAAAAAAAAAAAAAAAAAAAAAAAAAAAAAAAAAAAAAAAAAAAAAAAAAAAAAAAAAAAAAAAAAAAAAAAAAAAAAAAAAAAAAAAAAAAAAAAAAAAAAAAAAAAAAAAAAAAAAAAAAAAAAAAAAAAAAAAAAAAAAAAAAAAAAAAAAAAAAAAAAAAAAAAAAAAAAAAAAAAAAAAAAAAAAAAAAAAAAAAAAAAAAAAAAAAAAAAAAAAAAAAAAAAAAAAAAAAAAAAAAAAAAAAAAAAAAAAAAAAAAAAAAAAAAAAAAAAAAAAAAAAAAAAAAAAAAAAAAAAAAAAAAAAAAAAAAAAAAAAAAAAAAAAAAAAAAAAAAAAAAAAAAAAAAAAAAAAAAAAAAAAAAAAAAAAAAAAAAAAAAAAAAAAAAAAAAAAAAAAAAAAAAAAAAAAAAAAAAAAAAAAAAAAAAAAAAAAAAAAAAAAAAAAAAAAAAAAAAAAAAAAAAAAAAAAAAAAAAAAAAAAAAAAAAAAAAAAAAAAAAAAAAAAAAAAAAAAAAAAAAAAAAAAAAAAAAAAAAAAAAAAAAAAAAAAAAAAAAAAAAAAAAAAAAAAAAAAAAAAAAAAAAAAAAAAAAAAAAAAAAAAAAAAAAAAAAAAAAAAAAAAAAAAAAAAAAAAAAAAAAAAAAAAAAAAAAAAAAAAAAAAAAAAAAAAAAAAAAAAAAAAAAAAAAAAAAAAAAAAAAAAAAAAAAAAAAAAAAAAAAAAAAAAAAAAAAAAAAAAAAAAAAAAAAAAAAAAAAAAAAAAAAAAAAAAAAAAAAAAAAAAAAAAAAAAAAAAAAAAAAAAAAAAAAAAAAAAAAAAAAAAAAAAAAAAAAAAAAAAAAAAAAAAAAAAAAAAAAAAAAAAAAAAAAAAAAAAAAAAAAAAAAAAAAAAAAAAAAAAAAAAAAAAAAAAAAAAAAAAAAAAAAAAAAAAAAAAAAAAAAAAAAAAAAAAAAAAAAAAAAAAAAAAAAAAAAAAAAAAAAAAAAAAAAAAAAAAAAAAAAAAAAAAAAAAAAAAAAAAAAAAAAAAAAAAAAAAAAAAAAAAAAAAAAAAAAAAAAAAAAAAAAAAAAAAAAAAAAAAAAAAAAAAAAAAAAAAAAAAAAAAAAAAAAAAAAAAAAAAAAAAAAAAAAAAAAAAAAAAAAAAAAAAAAAAAAAAAAAAAAAAAAAAAAAAAAAAAAAAAAAAAAAAAAAAAAAAAAAAAAAAAAAAAAAAAAAAAAAAAAAAAAAAAAAAAAAAAAAAAAAAAAAAAAAAAAAAAAAAAAAAAAAAAAAAAAAAAAAAAAAAAAAAAAAAAAAAAAAAAAAAAAAAAAAAAAAAAAAAAAAAAAAAAAAAAAAAAAAAAAAAAAAAAAAAAAAAAAAAAAAAAAAAAAAAAAAAAAAAAAAAAAAAAAAAAAAAAAAAAAAAAAAAAAAAAAAAAAAAAAAAAAAAAAAAAAAAAAAAAAAAAAAAAAAAAAAAAAAAAAAAAAAAAAAAAAAAAAAAAAAAAAAAAAAAAAAAAAAAAAAAAAAAAAAAAAAAAAAAAAAAAAAAAAAAAAAAAAAAAAAAAAAAAAAAAAAAAAAAAAAAAAAAAAAAAAAAAAAAAAAAAAAAAAAAAAAAAAAAAAAAAAAAAAAAAAAAAAAAAAAAAAAAAAAAAAAAAAAAAAAAAAAAAAAAAAAAAAAAAAAAAAAAAAAAAAAAAAAAAAAAAAAAAAAAAAAAAAAAAAAAAAAAAAAAAAAAAAAAAAAAAAAAAAAAAAAAAAAAAAAAAAAAAAAAAAAAAAAAAAAAAAAAAAAAAAAAAAAAAAAAAAAAAAAAAAAAAAAAAAAAAAAAAAAAAAAAAAAAAAAAAAAAAAAAAAAAAAAAAAAAAAAAAAAAAAAAAAAAAAAAAAAAAAAAAAAAAAAAAAAAAAAAAAAAAAAAAAAAAAAAAAAAAAAAAAAAAAAAAAAAAAAAAAAAAAAAAAAAAAAAAAAAAAAAAAAAAAAAAAAAAAAAAAAAAAAAAAAAAAAAAAAAAAAAAAAAAAAAAAAAAAAAAAAAAAAAAAAAAAAAAAAAAAAAAAAAAAAAAAAAAAAAAAAAAAAAAAAAAAAAAAAAAAAAAAAAAAAAAAAAAAAAAAAAAAAAAAAAAAAAAAAAAAAAAAAAAAAAAAAAAAAAAAAAAAAAAAAAAAAAAAAAAAAAAAAAAAAAAAAAAAAAAAAAAAAAAAAAAAAAAAAAAAAAAAAAAAAAAAAAAAAAAAAAAAAAAAAAAAAAAAAAAAAAAAAAAAAAAAAAAAAAAAAAAAAAAAAAAAAAAAAAAAAAAAAAAAAAAAAAAAAAAAAAAAAAAAAAAAAAAAAAAAAAAAAAAAAAAAAAAAAAAAAAAAAAAAAAAAAAAAAAAAAAAAAAAAAAAAAAAAAAAAAAAAAAAAAAAAAAAAAAAAAAAAAAAAAAAAAAAAAAAAAAAAAAAAAAAAAAAAAAAAAAAAAAAAAAAAAAAAAAAAAAAAAAAAAAAAAAAAAAAAAAAAAAAAAAAAAAAAAAAAAAAAAAAAAAAAAAAAAAAAAAAAAAAAAAAAAAAAAAAAAAAAAAAAAAAAAAAAAAAAAAAAAAAAAAAAAAAAAAAAAAAAAAAAAAAAAAAAAAAAAAAAAAAAAAAAAAAAAAAAAAAAAAAAAAAAAAAAAAAAAAAAAAAAAAAAAAAAAAAAAAAAAAAAAAAAAAAAAAAAAAAAAAAAAAAAAAAAAAAAAAAAAAAAAAAAAAAAAAAAAAAAAAAAAAAAAAAAAAAAAAAAAAAAAAAAAAAAAAAAAAAAAAAAAAAAAAAAAAAAAAAAAAAAAAAAAAAAAAAAAAAAAAAAAAAAAAAAAAAAAAAAAAAAAAAAAAAAAAAAAAAAAAAAAAAAAAAAAAAAAAAAAAAAAAAAAAAAAAAAAAAAAAAAAAAAAAAAAAAAAAAAAAAAAAAAAAAAAAAAAAAAAAAAAAAAAAAAAAAAAAAAAAAAAAAAAAAAAAAAAAAAAAAAAAAAAAAAAAAAAAAAAAAAAAAAAAAAAAAAAAAAAAAAAAAAAAAAAAAAAAAAAAAAAAAAAAAAAAAAAAAAAAAAAAAAAAAAAAAAAAAAAAAAAAAAAAAAAAAAAAAAAAAAAAAAAAAAAAAAAAAAAAAAAAAAAAAAAAAAAAAAAAAAAAAAAAAAAAAAAAAAAAAAAAAAAAAAAAAAAAAAAAAAAAAAAAAAAAAAAAAAAAAAAAAAAAAAAAAAAAAAAAAAAAAAAAAAAAAAAAAAAAAAAAAAAAAAAAAAAAAAAAAAAAAAAAAAAAAAAAAAAAAAAAAAAAAAAAAAAAAAAAAAAAAAAAAAAAAAAAAAAAAAAAAAAAAAAAAAAAAAAAAAAAAAAAAAAAAAAAAAAAAAAAAAAAAAAAAAAAAAAAAAAAAAAAAAAAAAAAAAAAAAAAAAAAAAAAAAAAAAAAAAAAAAAAAAAAAAAAAAAAAAAAAAAAAAAAAAAAAAAAAAAAAAAAAAAAAAAAAAAAAAAAAAAAAAAAAAAAAAAAAAAAAAAAAAAAAAAAAAAAAAAAAAAAAAAAAAAAAAAAAAAAAAAAAAAAAAAAAAAAAAAAAAAAAAAAAAAAAAAAAAAAAAAAAAAAAAAAAAAAAAAAAAAAAAAAAAAAAAAAAAAAAAAAAAAAAAAAAAAAAAAAAAAAAAAAAAAAAAAAAAAAAAAAAAAAAAAAAAAAAAAAAAAAAAAAAAAAAAAAAAAAAAAAAAAAAAAAAAAAAAAAAAAAAAAAAAAAAAAAAAAAAAAAAAAAAAAAAAAAAAAAAAAAAAAAAAAAAAAAAAAAAAAAAAAAAAAAAAAAAAAAAAAAAAAAAAAAAAAAAAAAAAAAAAAAAAAAAAAAAAAAAAAAAAAAAAAAAAAAAAAAAAAAAAAAAAAAAAAAAAAAAAAAAAAAAAAAAAAAAAAAAAAAAAAAAAAAAAAAAAAAAAAAAAAAAAAAAAAAAAAAAAAAAAAAAAAAAAAAAAAAAAAAAAAAAAAAAAAAAAAAAAAAAAAAAAAAAAAAAAAAAAAAAAAAAAAAAAAAAAAAAAAAAAAAAAAAAAAAAAAAAAAAAAAAAAAAAAAAAAAAAAAAAAAAAAAAAAAAAAAAAAAAAAAAAAAAAAAAAAAAAAAAAAAAAAAAAAAAAAAAAAAAAAAAAAAAAAAAAAAAAAAAAAAAAAAAAAAAAAAAAAAAAAAAAAAAAAAAAAAAAAAAAAAAAAAAAAAAAAAAAAAAAAAAAAAAAAAAAAAAAAAAAAAAAAAAAAAAAAAAAAAAAAAAAAAAAAAAAAAAAAAAAAAAAAAAAAAAAAAAAAAAAAAAAAAAAAAAAAAAAAAAAAAAAAAAAAAAAAAAAAAAAAAAAAAAAAAAAAAAAAAAAAAAAAAAAAAAAAAAAAAAAAAAAAAAAAAAAAAAAAAAAAAAAAAAAAAAAAAAAAAAAAAAAAAAAAAAAAAAAAAAAAAAAAAAAAAAAAAAAAAAAAAAAAAAAAAAAAAAAAAAAAAAAAAAAAAAAAAAAAAAAAAAAAAAAAAAAAAAAAAAAAAAAAAAAAAAAAAAAAAAAAAAAAAAAAAAAAAAAAAAAAAAAAAAAAAAAAAAAAAAAAAAAAAAAAAAAAAAAAAAAAAAAAAAAAAAAAAAAAAAAAAAAAAAAAAAAAAAAAAAAAAAAAAAAAAAAAAAAAAAAAAAAAAAAAAAAAAAAAAAAAAAAAAAAAAAAAAAAAAAAAAAAAAAAAAAAAAAAAAAAAAAAAAAAAAAAAAAAAAAAAAAAAAAAAAAAAAAAAAAAAAAAAAAAAAAAAAAAAAAAAAAAAAAAAAAAAAAAAAAAAAAAAAAAAAAAAAAAAAAAAAAAAAAAAAAAAAAAAAAAAAAAAAAAAAAAAAAAAAAAAAAAAAAAAAAAAAAAAAAAAAAAAAAAAAAAAAAAAAAAAAAAAAAAAAAAAAAAAAAAAAAAAAAAAAAAAAAAAAAAAAAAAAAAAAAAAAAAAAAAAAAAAAAAAAAAAAAAAAAAAAAAAAAAAAAAAAAAAAAAAAAAAAAAAAAAAAAAAAAAAAAAAAAAAAAAAAAAAAAAAAAAAAAAAAAAAAAAAAAAAAAAAAAAAAAAAAAAAAAAAAAAAAAAAAAAAAAAAAAAAAAAAAAAAAAAAAAAAAAAAAAAAAAAAAAAAAAAAAAAAAAAAAAAAAAAAAAAAAAAAAAAAAAAAAAAAAAAAAAAAAAAAAAAAAAAAAAAAAAAAAAAAAAAAAAAAAAAAAAAAAAAAAAAAAAAAAAAAAAAAAAAAAAAAAAAAAAAAAAAAAAAAAAAAAAAAAAAAAAAAAAAAAAAAAAAAAAAAAAAAAAAAAAAAAAAAAAAAAAAAAAAAAAAAAAAAAAAAAAAAAAAAAAAAAAAAAAAAAAAAAAAAAAAAAAAAAAAAAAAAAAAAAAAAAAAAAAAAAAAAAAAAAAAAAAAAAAAAAAAAAAAAAAAAAAAAAAAAAAAAAAAAAAAAAAAAAAAAAAAAAAAAAAAAAAAAAAAAAAAAAAAAAAAAAAAAAAAAAAAAAAAAAAAAAAAAAAAAAAAAAAAAAAAAAAAAAAAAAAAAAAAAAAAAAAAAAAAAAAAAAAAAAAAAAAAAAAAAAAAAAAAAAAAAAAAAAAAAAAAAAAAAAAAAAAAAAAAAAAAAAAAAAAAAAAAAAAAAAAAAAAAAAAAAAAAAAAAAAAAAAAAAAAAAAAAAAAAAAAAAAAAAAAAAAAAAAAAAAAAAAAAAAAAAAAAAAAAAAAAAAAAAAAAAAAAAAAAAAAAAAAAAAAAAAAAAAAAAAAAAAAAAAAAAAAAAAAAAAAAAAAAAAAAAAAAAAAAAAAAAAAAAAAAAAAAAAAAAAAAAAAAAAAAAAAAAAAAAAAAAAAAAAAAAAAAAAAAAAAAAAAAAAAAAAAAAAAAAAAAAAAAAAAAAAAAAAAAAAAAAAAAAAAAAAAAAAAAAAAAAAAAAAAAAAAAAAAAAAAAAAAAAAAAAAAAAAAAAAAAAAAAAAAAAAAAAAAAAAAAAAAAAAAAAAAAAAAAAAAAAAAAAAAAAAAAAAAAAAAAAAAAAAAAAAAAAAAAAAAAAAAAAAAAAAAAAAAAAAAAAAAAAAAAAAAAAAAAAAAAAAAAAAAAAAAAAAAAAAAAAAAAAAAAAAAAAAAAAAAAAAAAAAAAAAAAAAAAAAAAAAAAAAAAAAAAAAAAAAAAAAAAAAAAAAAAAAAAAAAAAAAAAAAAAAAAAAAAAAAAAAAAAAAAAAAAAAAAAAAAAAAAAAAAAAAAAAAAAAAAAAAAAAAAAAAAAAAAAAAAAAAAAAAAAAAAAAAAAAAAAAAAAAAAAAAAAAAAAAAAAAAAAAAAAAAAAAAAAAAAAAAAAAAAAAAAAAAAAAAAAAAAAAAAAAAAAAAAAAAAAAAAAAAAAAAAAAAAAAAAAAAAAAAAAAAAAAAAAAAAAAAAAAAAAAAAAAAAAAAAAAAAAAAAAAAAAAAAAAAAAAAAAAAAAAAAAAAAAAAAAAAAAAAAAAAAAAAAAAAAAAAAAAAAAAAAAAAAAAAAAAAAAAAAAAAAAAAAAAAAAAAAAAAAAAAAAAAAAAAAAAAAAAAAAAAAAAAAAAAAAAAAAAAAAAAAAAAAAAAAAAAAAAAAAAAAAAAAAAAAAAAAAAAAAAAAAAAAAAAAAAAAAAAAAAAAAAAAAAAAAAAAAAAAAAAAAAAAAAAAAAAAAAAAAAAAAAAAAAAAAAAAAAAAAAAAAAAAAAAAAAAAAAAAAAAAAAAAAAAAAAAAAAAAAAAAAAAAAAAAAAAAAAAAAAAAAAAAAAAAAAAAAAAAAAAAAAAAAAAAAAAAAAAAAAAAAAAAAAAAAAAAAAAAAAAAAAAAAAAAAAAAAAAAAAAAAAAAAAAAAAAAAAAAAAAAAAAAAAAAAAAAAAAAAAAAAAAAAAAAAAAAAAAAAAAAAAAAAAAAAAAAAAAAAAAAAAAAAAAAAAAAAAAAAAAAAAAAAAAAAAAAAAAAAAAAAAAAAAAAAAAAAAAAAAAAAAAAAAAAAAAAAAAAAAAAAAAAAAAAAAAAAAAAAAAAAAAAAAAAAAAAAAAAAAAAAAAAAAAAAAAAAAAAAAAAAAAAAAAAAAAAAAAAAAAAAAAAAAAAAAAAAAAAAAAAAAAAAAAAAAAAAAAAAAAAAAAAAAAAAAAAAAAAAAAAAAAAAAAAAAAAAAAAAAAAAAAAAAAAAAAAAAAAAAAAAAAAAAAAAAAAAAAAAAAAAAAAAAAAAAAAAAAAAAAAAAAAAAAAAAAAAAAAAAAAAAAAAAAAAAAAAAAAAAAAAAAAAAAAAAAAAAAAAAAAAAAAAAAAAAAAAAAAAAAAAAAAAAAAAAAAAAAAAAAAAAAAAAAAAAAAAAAAAAAAAAAAAAAAAAAAAAAAAAAAAAAAAAAAAAAAAAAAAAAAAAAAAAAAAAAAAAAAAAAAAAAAAAAAAAAAAAAAAAAAAAAAAAAAAAAAAAAAAAAAAAAAAAAAAAAAAAAAAAAAAAAAAAAAAAAAAAAAAAAAAAAAAAAAAAAAAAAAAAAAAAAAAAAAAAAAAAAAAAAAAAAAAAAAAAAAAAAAAAAAAAAAAAAAAAAAAAAAAAAAAAAAAAAAAAAAAAAAAAAAAAAAAAAAAAAAAAAAAAAAAAAAAAAAAAAAAAAAAAAAAAAAAAAAAAAAAAAAAAAAAAAAAAAAAAAAAAAAAAAAAAAAAAAAAAAAAAAAAAAAAAAAAAAAAAAAAAAAAAAAAAAAAAAAAAAAAAAAAAAAAAAAAAAAAAAAAAAAAAAAAAAAAAAAAAAAAAAAAAAAAAAAAAAAAAAAAAAAAAAAAAAAAAAAAAAAAAAAAAAAAAAAAAAAAAAAAAAAAAAAAAAAAAAAAAAAAAAAAAAAAAAAAAAAAAAAAAAAAAAAAAAAAAAAAAAAAAAAAAAAAAAAAAAAAAAAAAAAAAAAAAAAAAAAAAAAAAAAAAAAAAAAAAAAAAAAAAAAAAAAAAAAAAAAAAAAAAAAAAAAAAAAAAAAAAAAAAAAAAAAAAAAAAAAAAAAAAAAAAAAAAAAAAAAAAAAAAAAAAAAAAAAAAAAAAAAAAAAAAAAAAAAAAAAAAAAAAAAAAAAAAAAAAAAAAAAAAAAAAAAAAAAAAAAAAAAAAAAAAAAAAAAAAAAAAAAAAAAAAAAAAAAAAAAAAAAAAAAAAAAAAAAAAAAAAAAAAAAAAAAAAAAAAAAAAAAAAAAAAAAAAAAAAAAAAAAAAAAAAAAAAAAAAAAAAAAAAAAAAAAAAAAAAAAAAAAAAAAAAAAAAAAAAAAAAAAAAAAAAAAAAAAAAAAAAAAAAAAAAAAAAAAAAAAAAAAAAAAAAAAAAAAAAAAAAAAAAAAAAAAAAAAAAAAAAAAAAAAAAAAAAAAAAAAAAAAAAAAAAAAAAAAAAAAAAAAAAAAAAAAAAAAAAAAAAAAAAAAAAAAAAAAAAAAAAAAAAAAAAAAAAAAAAAAAAAAAAAAAAAAAAAAAAAAAAAAAAAAAAAAAAAAAAAAAAAAAAAAAAAAAAAAAAAAAAAAAAAAAAAAAAAAAAAAAAAAAAAAAAAAAAAAAAAAAAAAAAAAAAAAAAAAAAAAAAAAAAAAAAAAAAAAAAAAAAAAAAAAAAAAAAAAAAAAAAAAAAAAAAAAAAAAAAAAAAAAAAAAAAAAAAAAAAAAAAAAAAAAAAAAAAAAAAAAAAAAAAAAAAAAAAAAAAAAAAAAAAAAAAAAAAAAAAAAAAAAAAAAAAAAAAAAAAAAAAAAAAAAAAAAAAAAAAAAAAAAAAAAAAAAAAAAAAAAAAAAAAAAAAAAAAAAAAAAAAAAAAAAAAAAAAAAAAAAAAAAAAAAAAAAAAAAAAAAAAAAAAAAAAAAAAAAAAAAAAAAAAAAAAAAAAAAAAAAAAAAAAAAAAAAAAAAAAAAAAAAAAAAAAAAAAAAAAAAAAAAAAAAAAAAAAAAAAAAAAAAAAAAAAAAAAAAAAAAAAAAAAAAAAAAAAAAAAAAAAAAAAAAAAAAAAAAAAAAAAAAAAAAAAAAAAAAAAAAAAAAAAAAAAAAAAAAAAAAAAAAAAAAAAAAAAAAAAAAAAAAAAAAAAAAAAAAAAAAAAAAAAAAAAAAAAAAAAAAAAAAAAAAAAAAAAAAAAAAAAAAAAAAAAAAAAAAAAAAAAAAAAAAAAAAAAAAAAAAAAAAAAAAAAAAAAAAAAAAAAAAAAAAAAAAAAAAAAAAAAAAAAAAAAAAAAAAAAAAAAAAAAAAAAAAAAAAAAAAAAAAAAAAAAAAAAAAAAAAAAAAAAAAAAAAAAAAAAAAAAAAAAAAAAAAAAAAAAAAAAAAAAAAAAAAAAAAAAAAAAAAAAAAAAAAAAAAAAAAAAAAAAAAAAAAAAAAAAAAAAAAAAAAAAAAAAAAAAAAAAAAAAAAAAAAAAAAAAAAAAAAAAAAAAAAAAAAAAAAAAAAAAAAAAAAAAAAAAAAAAAAAAAAAAAAAAAAAAAAAAAAAAAAAAAAAAAAAAAAAAAAAAAAAAAAAAAAAAAAAAAAAAAAAAAAAAAAAAAAAAAAAAAAAAAAAAAAAAAAAAAAAAAAAAAAAAAAAAAAAAAAAAAAAAAAAAAAAAAAAAAAAAAAAAAAAAAAAAAAAAAAAAAAAAAAAAAAAAAAAAAAAAAAAAAAAAAAAAAAAAAAAAAAgAAAAAAAAAAAAAAAAAAAAAAAAAAAAAAAAAAAAAAAAAAAAAAAAAAAAAAAAAAAAAAAAAAAAAAAAAAAAAAAAAAAAAAAAAAAAAAAAAAAAAAAAAAAAAAAAAAAAAAAAAAAAAAAAAAAAAAAAAAAAAAAAAAAAAAAAAAAAAAAAAAAAAAAAAAAAAAAAAAAAAAAAAAAAAAAAAAAAAAAAAAAAAAAAAAAAAAAAAAAAAAAAAAAAAAAAAAAAAAAAAAAAAAAAAAAAAAAAAAAAAAAAAAAAAAAAAAAAAAAAAAAAAAAAAAAAAAAAAAAAAAAAAAAAAAAAAAAAAAAAAAAAAAAAAAAAAAAAAAAAAAAAAAAAAAAAAAAAAAAAAAAAAAAAAAAAAAAAAAAAAAAAAAAAAAAAAAAAAAAAAAAAAAAAAAAAAAAAAAAAAAAAAAAAAAAAAAAAAAAAAAAAAAAAAAAAAAAAAAAAAAAAAAAAAAAAAAAAAAAAAAAAAAAAAAAAAAAAAAAAAAAAAAAAAAAAAAAAAAAAAAAAAAAAAAAAAAAAAAAAAAAAAAAAAAAAAAAAAAAAAAAAAAAAAAAAAAAAAAAAAAAAAAAAAAAAAAAAAAAAAAAAAAAAAAAAAAAAAAAAAAAAAAAAAAAAAAAAAAAAAAAAAAAAAAAAAAAAAAAAAAAAAAAAAAAAAAAAAAAAAAAAAAAAAAAAAAAAAAAAAAAAAAAAAAAAAAAAAAAAAAAAAAAAAAAAAAAAAAAAAAAAAAAAAAAAAAAAAAAAAAAAAAAAAAAAAAAAAAAAAAAAAAAAAAAAAAAAAAAAAAAAAAAAAAAAAAAAAAAAAAAAAAAAAAAAAAAAAAAAAAAAAAAAAAAAAAAAAAAAAAAAAAAAAAAAAAAAAAAAAAAAAAAAAAAAAAAAAAAAAAAAAAAAAAAAAAAAAAAAAAAAAAAAAAAAAAAAAAAAAAAAAAAAAAAAAAAAAAAAAAAAAAAAAAAAAAAAAAAAAAAAAAAAAAAAAAAAAAAAAAAAAAAAAAAAAAAAAAAAAAAAAAAAAAAAAAAAAAAAAAAAAAAAAAAAAAAAAAAAAAAAAAAAAAAAAAAAAAAAAAAAAAAAAAAAAAAAAAAAAAAAAAAAAAAAAAAAAAAAAAAAAAAAAAAAAAAAAAAAAAAAAAAAAAAAAAAAAAAAAAAAAAAAAAAAAAAAAAAAAAAAAAAAAAAAAAAAAAAAAAAAAAAAAAAAAAAAAAAAAAAAAAAAAAAAAAAAAAAAAAAAAAAAAAAAAAAAAAAAAAAAAAAAAAAAAAAAAAAAAAAAAAAAAAAAAAAAAAAAAAAAAAAAAAAAAAAAAAAAAAAAAAAAAAAAAAAAAAAAAAAAAAAAAAAAAAAAAAAAAAAAAAAAAAAAAAAAAAAAAAAAAAAAAAAAAAAAAAAAAAAAAAAAAAAAAAAAAAAAAAAAAAAAAAAAAAAAAAAAAAAAAAAAAAAAAAAAAAAAAAAAAAAAAAAAAAAAAAAAAAAAAAAAAAAAAAAAAAAAAAAAAAAAAAAAAAAAAAAAAAAAAAAAAAAAAAAAAAAAAAAAAAAAAAAAAAAAAAAAAAAAAAAAAAAAAAAAAAAAAAAAAAAAAAAAAAAAAAAAAAAAAAAAAAAAAAAAAAAAAAAAAAAAAAAAAAAAAAAAAAAAAAAAAAAAAAAAAAAAAAAAAAAAAAAAAAAAAAAAAAAAAAAAAAAAAAAAAAAAAAAAAAAAAAAAAAAAAAAAAAAAAAAAAAAAAAAAAAAAAAAAAAAAAAAAAAAAAAAAAAAAAAAAAAAAAAAAAAAAAAAAAAAAAAAAAAAAAAAAAAAAAAAAAAAAAAAAAAAAAAAAAAAAAAAAAAAAAAAAAAAAAAAAAAAAAAAAAAAAAAAAAAAAAAAAAAAAAAAAAAAAAAAAAAAAAAAAAAAAAAAAAAAAAAAAAAAAAAAAAAAAAAAAAAAAAAAAAAAAAAAAAAAAAAAAAAAAAAAAAAAAAAAAAAAAAAAAAAAAAAAAAAAAAAAAAAAAAAAAAAAAAAAAAAAAAAAAAAAAAAAAAAAAAAAAAAAAAAAAAAAAAAAAAAAAAAAAAAAAAAAAAAAAAAAAAAAAAAAAAAAAAAAAAAAAAAAAAAAAAAAAAAAAAAAAAAAAAAAAAAAAAAAAAAAAAAAAAAAAAAAAAAAAAAAAAAAAAAAAAAAAAAAAAAAAAAAAAAAAAAAAAAAAAAAAAAAAAAAAAAAAAAAAAAAAAAAAAAAAAAAAAAAAAAAAAAAAAAAAAAAAAAAAAAAAAAAAAAAAAAAAAAAAAAAAAAAAAAAAAAAAAAAAAAAAAAAAAAAAAAAAAAAAAAAAAAAAAAAAAAAAAAAAAAAAAAAAAAAAAAAAAAAAAAAAAAAAAAAAAAAAAAAAAAAAAAAAAAAAAAAAAAAAAAAAAAAAAAAAAAAAAAAAAAAAAAAAAAAAAAAAAAAAAAAAAAAAAAAAAAAAAAAAAAAAAAAAAAAAAAAAAAAAAAAAAAAAAAAAAAAAAAAAAAAAAAAAAAAAAAAAAAAAAAAAAAAAAAAAAAAAAAAAAAAAAAAAAAAAAAAAAAAAAAAAAAAAAAAAAAAAAAAAAAAAAAAAAAAAAAAAAAAAAAAAAAAAAAAAAAAAAAAAAAAAAAAAAAAAAAAAAAAAAAAAAAAAAAAAAAAAAAAAAAAAAAAAAAAAAAAAAAAAAAAAAAAAAAAAAAAAAAAAAAAAAAAAAAAAAAAAAAAAAAAAAAAAAAAAAAAAAAAAAAAAAAAAAAAAAAAAAAAAAAAAAAAAAAAAAAAAAAAAAAAAAAAAAAAAAAAAAAAAAAAAAAAAAAAAAAAAAAAAAAAAAAAAAAAAAAAAAAAAAAAAAAAAAAAAAAAAAAAAAAAAAAAAAAAAAAAAAAAAAAAAAAAAAAAAAAAAAAAAAAAAAAAAAAAAAAAAAAAAAAAAAAAAAAAAAAAAAAAAAAAAAAAAAAAAAAAAAAAAAAAAAAAAAAAAAAAAAAAAAAAAAAAAAAAAAAAAAAAAAAAAAAAAAAAAAAAAAAAAAAAAAAAAAAAAAAAAAAAAAAAAAAAAAAAAAAAAAAAAAAAAAAAAAAAAAAAAAAAAAAAAAAAAAAAAAAAAAAAAAAAAAAAAAAAAAAAAAAAAAAAAAAAAAAAAAAAAAAAAAAAAAAAAAAAAAAAAAAAAAAAAAAAAAAAAAAAAAAAAAAAAAAAAAAAAAAAAAAAAAAAAAAAAAAAAAAAAAAAAAAAAAAAAAAAAAAAAAAAAAAAAAAAAAAAAAAAAAAAAAAAAAAAAAAAAAAAAAAAAAAAAAAAAAAAAAAAAAAAAAAAAAAAAAAAAAAAAAAAAAAAAAAAAAAAAAAAAAAAAAAAAAAAAAAAAAAAAAAAAAAAAAAAAAAAAAAAAAAAAAAAAAAAAAAAAAAAAAAAAAAAAAAAAAAAAAAAAAAAAAAAAAAAAAAAAAAAAAAAAAAAAAAAAAAAAAAAAAAAAAAAAAAAAAAAAAAAAAAAAAAAAAAAAAAAAAAAAAAAAAAAAAAAAAAAAAAAAAAAAAAAAAAAAAAAAAAAAAAAAAAAAAAAAAAAAAAAAAAAAAAAAAAAAAAAAAAAAAAAAAAAAAAAAAAAAAAAAAAAAAAAAAAAAAAAAAAAAAAAAAAAAAAAAAAAAAAAAAAAAAAAAAAAAAAAAAAAAAAAAAAAAAAAAAAAAAAAAAAAAAAAAAAAAAAAAAAAAAAAAAAAAAAAAAAAAAAAAAAAAAAAAAAAAAAAAAAAAAAAAAAAAAAAAAAAAAAAAAAAAAAAAAAAAAAAAAAAAAAAAAAAAAAAAAAAAAAAAAAAAAAAAAAAAAAAAAAAAAAAAAAAAAAAAAAAAAAAAAAAAAAAAAAAAAAAAAAAAAAAAAAAAAAAAAAAAAAAAAAAAAAAAAAAAAAAAAAAAAAAAAAAAAAAAAAAAAAAAAAAAAAAAAAAAAAAAAAAAAAAAAAAAAAAAAAAAAAAAAAAAAAAAAAAAAAAAAAAAAAAAAAAAAAAAAAAAAAAAAAAAAAAAAAAAAAAAAAAAAAAAAAAAAAAAAAAAAAAAAAAAAAAAAAAAAAAAAAAAAAAAAAAAAAAAAAAAAAAAAAAAAAAAAAAAAAAAAAAAAAAAAAAAAAAAAAAAAAAAAAAAAAAAAAAAAAAAAAAAAAAAAAAAAAAAAAAAAAAAAAAAAAAAAAAAAAAAAAAAAAAAAAAAAAAAAAAAAAAAAAAAAAAAAAAAAAAAAAAAAAAAAAAAAAAAAAAAAAAAAAAAAAAAAAAAAAAAAAAAAAAAAAAAAAAAAAAAAAAAAAAAAAAAAAAAAAAAAAAAAAAAAAAAAAAAAAAAAAAAAAAAAAAAAAAAAAAAAAAAAAAAAAAAAAAAAAAAAAAAAAAAAAAAAAAAAAAAAAAAAAAAAAAAAAAAAAAAAAAAAAAAAAAAAAAAAAAAAAAAAAAAAAAAAAAAAAAAAAAAAAAAAAAAAAAAAAAAAAAAAAAAAAAAAAAAAAAAAAAAAAAAAAAAAAAAAAAAAAAAAAAAAAAAAAAAAAAAAAAAAAAAAAAAAAAAAAAAAAAAAAAAAAAAAAAAAAAAAAAAAAAAAAAAAAAAAAAAAAAAAAAAAAAAAAAAAAAAAAAAAAAAAAAAAAAAAAAAAAAAAAAAAAAAAAAAAAAAAAAAAAAAAAAAAAAAAAAAAAAAAAAAAAAAAAAAAAAAAAAAAAAAAAAAAAAAAAAAAAAAAAAAAAAAAAAAAAAAAAAAAAAAAAAAAAAAAAAAAAAAAAAAAAAAAAAAAAAAAAAAAAAAAAAAAAAAAAAAAAAAAAAAAAAAAAAAAAAAAAAAAAAAAAAAAAAAAAAAAAAAAAAAAAAAAAAAAAAAAAAAAAAAAAAAAAAAAAAAAAAAAAAAAAAAAAAAAAAAAAAAAAAAAAAAAAAAAAAAAAAAAAAAAAAAAAAAAAAAAAAAAAAAAAAAAAAAAAAAAAAAAAAAAAAAAAAAAAAAAAAAAAAAAAAAAAAAAAAAAAAAAAAAAAAAAAAAAAAAAAAAAAAAAAAAAAAAAAAAAAAAAAAAAAAAAAAAAAAAAAAAAAAAAAAAAAAAAAAAAAAAAAAAAAAAAAAAAAAAAAAAAAAAAAAAAAAAAAAAAAAAAAAAAAAAAAAAAAAAAAAAAAAAAAAAAAAAAAAAAAAAAAAAAAAAAAAAAAAAAAAAAAAAAAAAAAAAAAAAAAAAAAAAAAAAAAAAAAAAAAAAAAAAAAAAAAAAAAAAAAAAAAAAAAAAAAAAAAAAAAAAAAAAAAAAAAAAAAAAAAAAAAAAAAAAAAAAAAAAAAAAAAAAAAAAAAAAAAAAAAAAAAAAAAAAAAAAAAAAAAAAAAAAAAAAAAAAAAAAAAAAAAAAAAAAAAAAAAAAAAAAAAAAAAAAAAAAAAAAAAAAAAAAAAAAAAAAAAAAAAAAAAAAAAAAAAAAAAAAAAAAAAAAAAAAAAAAAAAAAAAAAAAAAAAAAAAAAAAAAAAA==",
           "dtype": "i4"
          },
          "coloraxis": "coloraxis",
          "symbol": "circle"
         },
         "mode": "markers",
         "name": "",
         "scene": "scene",
         "showlegend": false,
         "type": "scatter3d",
         "x": {
          "bdata": "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",
          "dtype": "i2"
         },
         "y": {
          "bdata": "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",
          "dtype": "i2"
         },
         "z": {
          "bdata": "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",
          "dtype": "f8"
         }
        }
       ],
       "layout": {
        "coloraxis": {
         "colorbar": {
          "title": {
           "text": "cluster"
          }
         },
         "colorscale": [
          [
           0,
           "#0d0887"
          ],
          [
           0.1111111111111111,
           "#46039f"
          ],
          [
           0.2222222222222222,
           "#7201a8"
          ],
          [
           0.3333333333333333,
           "#9c179e"
          ],
          [
           0.4444444444444444,
           "#bd3786"
          ],
          [
           0.5555555555555556,
           "#d8576b"
          ],
          [
           0.6666666666666666,
           "#ed7953"
          ],
          [
           0.7777777777777778,
           "#fb9f3a"
          ],
          [
           0.8888888888888888,
           "#fdca26"
          ],
          [
           1,
           "#f0f921"
          ]
         ]
        },
        "legend": {
         "tracegroupgap": 0
        },
        "margin": {
         "t": 60
        },
        "scene": {
         "domain": {
          "x": [
           0,
           1
          ],
          "y": [
           0,
           1
          ]
         },
         "xaxis": {
          "title": {
           "text": "recency_days"
          }
         },
         "yaxis": {
          "title": {
           "text": "invoice_no"
          }
         },
         "zaxis": {
          "title": {
           "text": "gross_revenue"
          }
         }
        },
        "template": {
         "data": {
          "bar": [
           {
            "error_x": {
             "color": "#2a3f5f"
            },
            "error_y": {
             "color": "#2a3f5f"
            },
            "marker": {
             "line": {
              "color": "#E5ECF6",
              "width": 0.5
             },
             "pattern": {
              "fillmode": "overlay",
              "size": 10,
              "solidity": 0.2
             }
            },
            "type": "bar"
           }
          ],
          "barpolar": [
           {
            "marker": {
             "line": {
              "color": "#E5ECF6",
              "width": 0.5
             },
             "pattern": {
              "fillmode": "overlay",
              "size": 10,
              "solidity": 0.2
             }
            },
            "type": "barpolar"
           }
          ],
          "carpet": [
           {
            "aaxis": {
             "endlinecolor": "#2a3f5f",
             "gridcolor": "white",
             "linecolor": "white",
             "minorgridcolor": "white",
             "startlinecolor": "#2a3f5f"
            },
            "baxis": {
             "endlinecolor": "#2a3f5f",
             "gridcolor": "white",
             "linecolor": "white",
             "minorgridcolor": "white",
             "startlinecolor": "#2a3f5f"
            },
            "type": "carpet"
           }
          ],
          "choropleth": [
           {
            "colorbar": {
             "outlinewidth": 0,
             "ticks": ""
            },
            "type": "choropleth"
           }
          ],
          "contour": [
           {
            "colorbar": {
             "outlinewidth": 0,
             "ticks": ""
            },
            "colorscale": [
             [
              0,
              "#0d0887"
             ],
             [
              0.1111111111111111,
              "#46039f"
             ],
             [
              0.2222222222222222,
              "#7201a8"
             ],
             [
              0.3333333333333333,
              "#9c179e"
             ],
             [
              0.4444444444444444,
              "#bd3786"
             ],
             [
              0.5555555555555556,
              "#d8576b"
             ],
             [
              0.6666666666666666,
              "#ed7953"
             ],
             [
              0.7777777777777778,
              "#fb9f3a"
             ],
             [
              0.8888888888888888,
              "#fdca26"
             ],
             [
              1,
              "#f0f921"
             ]
            ],
            "type": "contour"
           }
          ],
          "contourcarpet": [
           {
            "colorbar": {
             "outlinewidth": 0,
             "ticks": ""
            },
            "type": "contourcarpet"
           }
          ],
          "heatmap": [
           {
            "colorbar": {
             "outlinewidth": 0,
             "ticks": ""
            },
            "colorscale": [
             [
              0,
              "#0d0887"
             ],
             [
              0.1111111111111111,
              "#46039f"
             ],
             [
              0.2222222222222222,
              "#7201a8"
             ],
             [
              0.3333333333333333,
              "#9c179e"
             ],
             [
              0.4444444444444444,
              "#bd3786"
             ],
             [
              0.5555555555555556,
              "#d8576b"
             ],
             [
              0.6666666666666666,
              "#ed7953"
             ],
             [
              0.7777777777777778,
              "#fb9f3a"
             ],
             [
              0.8888888888888888,
              "#fdca26"
             ],
             [
              1,
              "#f0f921"
             ]
            ],
            "type": "heatmap"
           }
          ],
          "histogram": [
           {
            "marker": {
             "pattern": {
              "fillmode": "overlay",
              "size": 10,
              "solidity": 0.2
             }
            },
            "type": "histogram"
           }
          ],
          "histogram2d": [
           {
            "colorbar": {
             "outlinewidth": 0,
             "ticks": ""
            },
            "colorscale": [
             [
              0,
              "#0d0887"
             ],
             [
              0.1111111111111111,
              "#46039f"
             ],
             [
              0.2222222222222222,
              "#7201a8"
             ],
             [
              0.3333333333333333,
              "#9c179e"
             ],
             [
              0.4444444444444444,
              "#bd3786"
             ],
             [
              0.5555555555555556,
              "#d8576b"
             ],
             [
              0.6666666666666666,
              "#ed7953"
             ],
             [
              0.7777777777777778,
              "#fb9f3a"
             ],
             [
              0.8888888888888888,
              "#fdca26"
             ],
             [
              1,
              "#f0f921"
             ]
            ],
            "type": "histogram2d"
           }
          ],
          "histogram2dcontour": [
           {
            "colorbar": {
             "outlinewidth": 0,
             "ticks": ""
            },
            "colorscale": [
             [
              0,
              "#0d0887"
             ],
             [
              0.1111111111111111,
              "#46039f"
             ],
             [
              0.2222222222222222,
              "#7201a8"
             ],
             [
              0.3333333333333333,
              "#9c179e"
             ],
             [
              0.4444444444444444,
              "#bd3786"
             ],
             [
              0.5555555555555556,
              "#d8576b"
             ],
             [
              0.6666666666666666,
              "#ed7953"
             ],
             [
              0.7777777777777778,
              "#fb9f3a"
             ],
             [
              0.8888888888888888,
              "#fdca26"
             ],
             [
              1,
              "#f0f921"
             ]
            ],
            "type": "histogram2dcontour"
           }
          ],
          "mesh3d": [
           {
            "colorbar": {
             "outlinewidth": 0,
             "ticks": ""
            },
            "type": "mesh3d"
           }
          ],
          "parcoords": [
           {
            "line": {
             "colorbar": {
              "outlinewidth": 0,
              "ticks": ""
             }
            },
            "type": "parcoords"
           }
          ],
          "pie": [
           {
            "automargin": true,
            "type": "pie"
           }
          ],
          "scatter": [
           {
            "fillpattern": {
             "fillmode": "overlay",
             "size": 10,
             "solidity": 0.2
            },
            "type": "scatter"
           }
          ],
          "scatter3d": [
           {
            "line": {
             "colorbar": {
              "outlinewidth": 0,
              "ticks": ""
             }
            },
            "marker": {
             "colorbar": {
              "outlinewidth": 0,
              "ticks": ""
             }
            },
            "type": "scatter3d"
           }
          ],
          "scattercarpet": [
           {
            "marker": {
             "colorbar": {
              "outlinewidth": 0,
              "ticks": ""
             }
            },
            "type": "scattercarpet"
           }
          ],
          "scattergeo": [
           {
            "marker": {
             "colorbar": {
              "outlinewidth": 0,
              "ticks": ""
             }
            },
            "type": "scattergeo"
           }
          ],
          "scattergl": [
           {
            "marker": {
             "colorbar": {
              "outlinewidth": 0,
              "ticks": ""
             }
            },
            "type": "scattergl"
           }
          ],
          "scattermap": [
           {
            "marker": {
             "colorbar": {
              "outlinewidth": 0,
              "ticks": ""
             }
            },
            "type": "scattermap"
           }
          ],
          "scattermapbox": [
           {
            "marker": {
             "colorbar": {
              "outlinewidth": 0,
              "ticks": ""
             }
            },
            "type": "scattermapbox"
           }
          ],
          "scatterpolar": [
           {
            "marker": {
             "colorbar": {
              "outlinewidth": 0,
              "ticks": ""
             }
            },
            "type": "scatterpolar"
           }
          ],
          "scatterpolargl": [
           {
            "marker": {
             "colorbar": {
              "outlinewidth": 0,
              "ticks": ""
             }
            },
            "type": "scatterpolargl"
           }
          ],
          "scatterternary": [
           {
            "marker": {
             "colorbar": {
              "outlinewidth": 0,
              "ticks": ""
             }
            },
            "type": "scatterternary"
           }
          ],
          "surface": [
           {
            "colorbar": {
             "outlinewidth": 0,
             "ticks": ""
            },
            "colorscale": [
             [
              0,
              "#0d0887"
             ],
             [
              0.1111111111111111,
              "#46039f"
             ],
             [
              0.2222222222222222,
              "#7201a8"
             ],
             [
              0.3333333333333333,
              "#9c179e"
             ],
             [
              0.4444444444444444,
              "#bd3786"
             ],
             [
              0.5555555555555556,
              "#d8576b"
             ],
             [
              0.6666666666666666,
              "#ed7953"
             ],
             [
              0.7777777777777778,
              "#fb9f3a"
             ],
             [
              0.8888888888888888,
              "#fdca26"
             ],
             [
              1,
              "#f0f921"
             ]
            ],
            "type": "surface"
           }
          ],
          "table": [
           {
            "cells": {
             "fill": {
              "color": "#EBF0F8"
             },
             "line": {
              "color": "white"
             }
            },
            "header": {
             "fill": {
              "color": "#C8D4E3"
             },
             "line": {
              "color": "white"
             }
            },
            "type": "table"
           }
          ]
         },
         "layout": {
          "annotationdefaults": {
           "arrowcolor": "#2a3f5f",
           "arrowhead": 0,
           "arrowwidth": 1
          },
          "autotypenumbers": "strict",
          "coloraxis": {
           "colorbar": {
            "outlinewidth": 0,
            "ticks": ""
           }
          },
          "colorscale": {
           "diverging": [
            [
             0,
             "#8e0152"
            ],
            [
             0.1,
             "#c51b7d"
            ],
            [
             0.2,
             "#de77ae"
            ],
            [
             0.3,
             "#f1b6da"
            ],
            [
             0.4,
             "#fde0ef"
            ],
            [
             0.5,
             "#f7f7f7"
            ],
            [
             0.6,
             "#e6f5d0"
            ],
            [
             0.7,
             "#b8e186"
            ],
            [
             0.8,
             "#7fbc41"
            ],
            [
             0.9,
             "#4d9221"
            ],
            [
             1,
             "#276419"
            ]
           ],
           "sequential": [
            [
             0,
             "#0d0887"
            ],
            [
             0.1111111111111111,
             "#46039f"
            ],
            [
             0.2222222222222222,
             "#7201a8"
            ],
            [
             0.3333333333333333,
             "#9c179e"
            ],
            [
             0.4444444444444444,
             "#bd3786"
            ],
            [
             0.5555555555555556,
             "#d8576b"
            ],
            [
             0.6666666666666666,
             "#ed7953"
            ],
            [
             0.7777777777777778,
             "#fb9f3a"
            ],
            [
             0.8888888888888888,
             "#fdca26"
            ],
            [
             1,
             "#f0f921"
            ]
           ],
           "sequentialminus": [
            [
             0,
             "#0d0887"
            ],
            [
             0.1111111111111111,
             "#46039f"
            ],
            [
             0.2222222222222222,
             "#7201a8"
            ],
            [
             0.3333333333333333,
             "#9c179e"
            ],
            [
             0.4444444444444444,
             "#bd3786"
            ],
            [
             0.5555555555555556,
             "#d8576b"
            ],
            [
             0.6666666666666666,
             "#ed7953"
            ],
            [
             0.7777777777777778,
             "#fb9f3a"
            ],
            [
             0.8888888888888888,
             "#fdca26"
            ],
            [
             1,
             "#f0f921"
            ]
           ]
          },
          "colorway": [
           "#636efa",
           "#EF553B",
           "#00cc96",
           "#ab63fa",
           "#FFA15A",
           "#19d3f3",
           "#FF6692",
           "#B6E880",
           "#FF97FF",
           "#FECB52"
          ],
          "font": {
           "color": "#2a3f5f"
          },
          "geo": {
           "bgcolor": "white",
           "lakecolor": "white",
           "landcolor": "#E5ECF6",
           "showlakes": true,
           "showland": true,
           "subunitcolor": "white"
          },
          "hoverlabel": {
           "align": "left"
          },
          "hovermode": "closest",
          "mapbox": {
           "style": "light"
          },
          "paper_bgcolor": "white",
          "plot_bgcolor": "#E5ECF6",
          "polar": {
           "angularaxis": {
            "gridcolor": "white",
            "linecolor": "white",
            "ticks": ""
           },
           "bgcolor": "#E5ECF6",
           "radialaxis": {
            "gridcolor": "white",
            "linecolor": "white",
            "ticks": ""
           }
          },
          "scene": {
           "xaxis": {
            "backgroundcolor": "#E5ECF6",
            "gridcolor": "white",
            "gridwidth": 2,
            "linecolor": "white",
            "showbackground": true,
            "ticks": "",
            "zerolinecolor": "white"
           },
           "yaxis": {
            "backgroundcolor": "#E5ECF6",
            "gridcolor": "white",
            "gridwidth": 2,
            "linecolor": "white",
            "showbackground": true,
            "ticks": "",
            "zerolinecolor": "white"
           },
           "zaxis": {
            "backgroundcolor": "#E5ECF6",
            "gridcolor": "white",
            "gridwidth": 2,
            "linecolor": "white",
            "showbackground": true,
            "ticks": "",
            "zerolinecolor": "white"
           }
          },
          "shapedefaults": {
           "line": {
            "color": "#2a3f5f"
           }
          },
          "ternary": {
           "aaxis": {
            "gridcolor": "white",
            "linecolor": "white",
            "ticks": ""
           },
           "baxis": {
            "gridcolor": "white",
            "linecolor": "white",
            "ticks": ""
           },
           "bgcolor": "#E5ECF6",
           "caxis": {
            "gridcolor": "white",
            "linecolor": "white",
            "ticks": ""
           }
          },
          "title": {
           "x": 0.05
          },
          "xaxis": {
           "automargin": true,
           "gridcolor": "white",
           "linecolor": "white",
           "ticks": "",
           "title": {
            "standoff": 15
           },
           "zerolinecolor": "white",
           "zerolinewidth": 2
          },
          "yaxis": {
           "automargin": true,
           "gridcolor": "white",
           "linecolor": "white",
           "ticks": "",
           "title": {
            "standoff": 15
           },
           "zerolinecolor": "white",
           "zerolinewidth": 2
          }
         }
        }
       }
      }
     },
     "metadata": {},
     "output_type": "display_data"
    }
   ],
   "source": [
    "fig = px.scatter_3d(df9,x='recency_days',y='invoice_no',z='gross_revenue',color='cluster')\n",
    "fig.show();"
   ]
  },
  {
   "cell_type": "markdown",
   "id": "7ab70379",
   "metadata": {},
   "source": [
    "## Perfil do cluster"
   ]
  },
  {
   "cell_type": "code",
   "execution_count": 82,
   "id": "ef3db327",
   "metadata": {},
   "outputs": [
    {
     "data": {
      "text/html": [
       "<div>\n",
       "<style scoped>\n",
       "    .dataframe tbody tr th:only-of-type {\n",
       "        vertical-align: middle;\n",
       "    }\n",
       "\n",
       "    .dataframe tbody tr th {\n",
       "        vertical-align: top;\n",
       "    }\n",
       "\n",
       "    .dataframe thead th {\n",
       "        text-align: right;\n",
       "    }\n",
       "</style>\n",
       "<table border=\"1\" class=\"dataframe\">\n",
       "  <thead>\n",
       "    <tr style=\"text-align: right;\">\n",
       "      <th></th>\n",
       "      <th>cluster</th>\n",
       "      <th>customer_id</th>\n",
       "      <th>perc_customer</th>\n",
       "      <th>gross_revenue</th>\n",
       "      <th>recency_days</th>\n",
       "      <th>invoice_no</th>\n",
       "    </tr>\n",
       "  </thead>\n",
       "  <tbody>\n",
       "    <tr>\n",
       "      <th>0</th>\n",
       "      <td>0</td>\n",
       "      <td>4335</td>\n",
       "      <td>99.15</td>\n",
       "      <td>1372.577826</td>\n",
       "      <td>92.257901</td>\n",
       "      <td>4.614533</td>\n",
       "    </tr>\n",
       "    <tr>\n",
       "      <th>1</th>\n",
       "      <td>1</td>\n",
       "      <td>6</td>\n",
       "      <td>0.14</td>\n",
       "      <td>182181.981667</td>\n",
       "      <td>7.166667</td>\n",
       "      <td>89.000000</td>\n",
       "    </tr>\n",
       "    <tr>\n",
       "      <th>2</th>\n",
       "      <td>2</td>\n",
       "      <td>31</td>\n",
       "      <td>0.71</td>\n",
       "      <td>40543.517742</td>\n",
       "      <td>13.290323</td>\n",
       "      <td>53.290323</td>\n",
       "    </tr>\n",
       "  </tbody>\n",
       "</table>\n",
       "</div>"
      ],
      "text/plain": [
       "   cluster  customer_id  perc_customer  gross_revenue  recency_days  invoice_no\n",
       "0        0         4335          99.15    1372.577826     92.257901    4.614533\n",
       "1        1            6           0.14  182181.981667      7.166667   89.000000\n",
       "2        2           31           0.71   40543.517742     13.290323   53.290323"
      ]
     },
     "execution_count": 82,
     "metadata": {},
     "output_type": "execute_result"
    }
   ],
   "source": [
    "#Number of customer\n",
    "df_cluster = df9.loc[:,['customer_id','cluster']].groupby('cluster').count().reset_index()\n",
    "df_cluster['perc_customer'] = round((df_cluster['customer_id'] / df_cluster['customer_id'].sum())*100,2)\n",
    "\n",
    "#Avg Gross revenue\n",
    "df_avg_gr = df9.loc[:,['gross_revenue','cluster']].groupby('cluster').mean().reset_index()\n",
    "df_cluster = pd.merge(df_cluster, df_avg_gr,how='inner',on='cluster')\n",
    "\n",
    "#Avg recency days\n",
    "df_avg_rd = df9.loc[:,['recency_days','cluster']].groupby('cluster').mean().reset_index()\n",
    "df_cluster = pd.merge(df_cluster, df_avg_rd,how='inner',on='cluster')\n",
    "\n",
    "#Avg invoice_no\n",
    "df_avg_in = df9.loc[:,['invoice_no','cluster']].groupby('cluster').mean().reset_index()\n",
    "df_cluster = pd.merge(df_cluster, df_avg_in,how='inner',on='cluster')\n",
    "df_cluster"
   ]
  },
  {
   "cell_type": "markdown",
   "id": "619a915a",
   "metadata": {},
   "source": [
    "# 💡 Insights por Cluster"
   ]
  },
  {
   "cell_type": "markdown",
   "id": "477a512e",
   "metadata": {},
   "source": [
    "\n",
    "**Cluster 0 – Clientes Ativos Regulares**\n",
    "\n",
    "* Representam **6,1% da base** com **receita média razoável**.\n",
    "\n",
    "* Compram com frequência (≈19 faturas) e retornaram recentemente (~20 dias).\n",
    "\n",
    "* **Potencial**: aumentar o ticket médio com promoções personalizadas.\n",
    "\n",
    "* **Ação sugerida**: programa de fidelidade ou cross-sell de produtos relacionados.\n",
    "___\n",
    "**Cluster 1 – Clientes VIP**\n",
    "\n",
    "* Menor grupo (apenas **0,14% dos clientes**) mas **geram a maior receita**.\n",
    "\n",
    "* Compram frequentemente (**89 compras**) e com ticket muito alto (R$ 253).\n",
    "\n",
    "* **Potencial**: altíssimo valor de vida útil (LTV).\n",
    "\n",
    "* **Ação sugerida**: atendimento personalizado, ofertas exclusivas e reconhecimento de status (ex: “Cliente Ouro”).\n",
    "___\n",
    "**Cluster 2 – Clientes Premium**\n",
    "\n",
    "* **0,64% da base**, também muito rentáveis.\n",
    "\n",
    "* Recentes (~6 dias desde a última compra) e com **bom engajamento** (58 compras).\n",
    "\n",
    "* Ticket médio alto (R$ 162).\n",
    "\n",
    "* **Ação sugerida**: fortalecer o relacionamento com campanhas de retenção e benefícios para mantê-los ativos.\n",
    "___\n",
    "**Cluster 3 – Clientes Inativos**\n",
    "\n",
    "* **Maioria absoluta** (**93%**) da base, mas com **receita mínima** (R$ 946).\n",
    "\n",
    "* Alta recência (97 dias sem comprar) e baixa frequência (~3,6 compras).\n",
    "\n",
    "* **Potencial**: reativação ou limpeza de base.\n",
    "\n",
    "* **Ação sugerida**: campanhas de win-back (“sentimos sua falta”), descontos agressivos ou remarketing.\n",
    "___\n",
    "**🧠 Conclusão Estratégica**\n",
    "\n",
    "* **Cluster 1 e 2** concentram a **maior parte da receita**, apesar de representarem menos de **1% dos clientes** — sugerindo foco nesses segmentos para maximizar rentabilidade.\n",
    "\n",
    "* **Cluster 0** pode ser desenvolvido como público-alvo para **crescimento orgânico**.\n",
    "\n",
    "* **Cluster 3** exige **estratégias de reativação** ou revisão da base para reduzir custos de marketing em clientes de baixo retorno."
   ]
  },
  {
   "cell_type": "markdown",
   "id": "5bd9bf52",
   "metadata": {},
   "source": [
    "# <font color = \"red\" > 10.0. Deploy em produção </font>"
   ]
  },
  {
   "cell_type": "code",
   "execution_count": null,
   "id": "90383835",
   "metadata": {},
   "outputs": [],
   "source": []
  }
 ],
 "metadata": {
  "kernelspec": {
   "display_name": "Python 3",
   "language": "python",
   "name": "python3"
  },
  "language_info": {
   "codemirror_mode": {
    "name": "ipython",
    "version": 3
   },
   "file_extension": ".py",
   "mimetype": "text/x-python",
   "name": "python",
   "nbconvert_exporter": "python",
   "pygments_lexer": "ipython3",
   "version": "3.13.1"
  }
 },
 "nbformat": 4,
 "nbformat_minor": 5
}
